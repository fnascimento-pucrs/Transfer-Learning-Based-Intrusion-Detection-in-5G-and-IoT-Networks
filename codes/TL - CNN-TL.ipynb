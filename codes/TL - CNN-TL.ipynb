{
 "cells": [
  {
   "cell_type": "markdown",
   "metadata": {},
   "source": [
    "# CNN-TL |  Using TRANSFER LEARNING"
   ]
  },
  {
   "cell_type": "code",
   "execution_count": 88,
   "metadata": {},
   "outputs": [],
   "source": [
    "# Imports\n",
    "import tensorflow as tf\n",
    "import keras\n",
    "import matplotlib.pyplot as plt\n",
    "import numpy as np\n",
    "import pandas as pd\n",
    "import seaborn as sns\n",
    "import sklearn.metrics as metrics\n",
    "\n",
    "from tensorflow.keras import datasets, layers, models\n",
    "from tensorflow.keras.callbacks import EarlyStopping\n",
    "from keras.layers import Dense, BatchNormalization\n",
    "from sklearn.preprocessing import StandardScaler\n",
    "from sklearn.model_selection import train_test_split\n",
    "from sklearn.metrics import confusion_matrix, classification_report\n",
    "from keras.models import load_model\n",
    "\n",
    "# Disable warns\n",
    "pd.options.mode.chained_assignment = None  # default='warn'\n",
    "\n",
    "# Set seaborn theme to the plots\n",
    "sns.set()"
   ]
  },
  {
   "cell_type": "markdown",
   "metadata": {},
   "source": [
    "## UNSW-NB15-Train-Basic for training and UNSW-NB15-Test+ for validation"
   ]
  },
  {
   "cell_type": "code",
   "execution_count": 42,
   "metadata": {},
   "outputs": [],
   "source": [
    "# Load UNSW-NB15-Train-Basic\n",
    "data = pd.read_csv('../datasets/UNSW-NB15-Train-Basic.csv', low_memory=False)\n",
    "\n",
    "# Select the 'proto' and 'state' values that I want\n",
    "data = data.loc[(data['proto'] == 'tcp') | (data['proto'] =='udp') | (data['proto'] =='icmp') | (data['proto'] =='arp') | (data['proto'] =='ipv6-icmp') | (data['proto'] =='igmp') | (data['proto'] =='rarp'), :]\n",
    "data = data.loc[(data['state'] == 'RST') | (data['state'] =='REQ') | (data['state'] =='INT') | (data['state'] =='FIN') | (data['state'] =='CON') | (data['state'] =='ECO') | (data['state'] =='ACC') | (data['state'] =='PAR'), :]\n",
    "\n",
    "# Extracting dataset labels\n",
    "data_labels=data[['label']]\n",
    "\n",
    "# Drop the invalid features and select interested data features\n",
    "data_features=data[['proto','srcip','sport','dstip','dsport','spkts','dpkts','sbytes','dbytes','state','stime','ltime','dur']]"
   ]
  },
  {
   "cell_type": "code",
   "execution_count": 43,
   "metadata": {},
   "outputs": [],
   "source": [
    "\"\"\"PREPROCESSING\"\"\"\n",
    "\n",
    "# Preprocess IP and ports features\n",
    "# IP Source Address\n",
    "data_features['srcip'] = data_features['srcip'].apply(lambda x: x.split(\".\")[-1])\n",
    "data_features['srcip'] = data_features['srcip'].apply(lambda x: x.split(\":\")[-1])\n",
    "data_features['srcip'] = data_features['srcip'].apply(lambda x: int(x, 16))\n",
    "\n",
    "# IP Destination Address\n",
    "data_features['dstip'] = data_features['dstip'].apply(lambda x: x.split(\".\")[-1])\n",
    "data_features['dstip'] = data_features['dstip'].apply(lambda x: x.split(\":\")[-1])\n",
    "data_features['dstip'] = data_features['dstip'].apply(lambda x: int(x, 16))\n",
    "\n",
    "# Ports\n",
    "data_features['sport'] = data_features['sport'].apply(lambda x: x.replace('0x','') if \"0x\" in str(x) else x)\n",
    "data_features['dsport'] = data_features['dsport'].apply(lambda x: x.replace('0x','') if \"0x\" in str(x) else x)\n",
    "\n",
    "# Convert all ports with 0 decimal, and HEX to DEC\n",
    "data_features['sport'] = data_features['sport'].apply(lambda x: str(x)[:-2] if str(x)[-2:] == '.0' else str(x))\n",
    "data_features['sport'] = data_features['sport'].apply(lambda x: -1 if str(x).isalpha()==True else int(x,16))\n",
    "\n",
    "data_features['dsport'] = data_features['dsport'].apply(lambda x: str(x)[:-2] if str(x)[-2:] == '.0' else str(x))\n",
    "data_features['dsport'] = data_features['dsport'].apply(lambda x: -1 if str(x).isalpha()==True else int(x,16))\n",
    "\n",
    "# Convert field to int format\n",
    "data_features['srcip'] = data_features['srcip'].astype(int)\n",
    "data_features['sport'] = data_features['sport'].astype(int)\n",
    "data_features['dstip'] = data_features['dstip'].astype(int)\n",
    "data_features['dsport'] = data_features['dsport'].astype(int)\n",
    "\n",
    "# Convert some fields to logarithmic\n",
    "log1p_col = ['dur', 'sbytes', 'dbytes', 'spkts']\n",
    "\n",
    "for col in log1p_col:\n",
    "    data_features[col] = data_features[col].apply(np.log1p)\n",
    "    \n",
    "# Create a complementary field of attack & Transform to One hot encoding - LABELS\n",
    "normal=data_labels['label']\n",
    "normal=normal.replace(1,2)\n",
    "normal=normal.replace(0,1)\n",
    "normal=normal.replace(2,0)\n",
    "\n",
    "# Insert the new column in data labels\n",
    "data_labels.insert(1, 'normal', normal)\n",
    "data_labels = pd.get_dummies(data_labels)\n",
    "\n",
    "# Transform to One hot encoding - FEATURES\n",
    "data_features=pd.get_dummies(data_features)\n",
    "\n",
    "# Normalize all data features\n",
    "data_features = StandardScaler().fit_transform(data_features)\n",
    "\n",
    "#Add dimension to data features\n",
    "data_features = np.expand_dims(data_features, axis=2)\n",
    "data_features = np.expand_dims(data_features, axis=3)\n",
    "\n",
    "x_train, y_train=data_features, data_labels"
   ]
  },
  {
   "cell_type": "code",
   "execution_count": 44,
   "metadata": {},
   "outputs": [
    {
     "data": {
      "text/plain": [
       "(410556, 24, 1, 1)"
      ]
     },
     "execution_count": 44,
     "metadata": {},
     "output_type": "execute_result"
    }
   ],
   "source": [
    "x_train.shape"
   ]
  },
  {
   "cell_type": "code",
   "execution_count": 45,
   "metadata": {},
   "outputs": [],
   "source": [
    "# Load UNSW-NB15-Test+\n",
    "data = pd.read_csv('../datasets/UNSW-NB15-Test+.csv', low_memory=False)\n",
    "\n",
    "# Select the 'proto' and 'state' values that I want\n",
    "data = data.loc[(data['proto'] == 'tcp') | (data['proto'] =='udp') | (data['proto'] =='icmp') | (data['proto'] =='arp') | (data['proto'] =='ipv6-icmp') | (data['proto'] =='igmp') | (data['proto'] =='rarp'), :]\n",
    "data = data.loc[(data['state'] == 'RST') | (data['state'] =='REQ') | (data['state'] =='INT') | (data['state'] =='FIN') | (data['state'] =='CON') | (data['state'] =='ECO') | (data['state'] =='ACC') | (data['state'] =='PAR'), :]\n",
    "\n",
    "# Extracting dataset labels\n",
    "data_labels=data[['label']]\n",
    "\n",
    "#Extracting dataset features\n",
    "data_features=data[['proto','srcip','sport','dstip','dsport','spkts','dpkts','sbytes','dbytes','state','stime','ltime','dur']]"
   ]
  },
  {
   "cell_type": "code",
   "execution_count": 46,
   "metadata": {},
   "outputs": [],
   "source": [
    "\"\"\"PREPROCESSING\"\"\"\n",
    "\n",
    "# Preprocess IP and ports features\n",
    "# IP Source Address\n",
    "data_features['srcip'] = data_features['srcip'].apply(lambda x: x.split(\".\")[-1])\n",
    "data_features['srcip'] = data_features['srcip'].apply(lambda x: x.split(\":\")[-1])\n",
    "data_features['srcip'] = data_features['srcip'].apply(lambda x: int(x, 16))\n",
    "\n",
    "# IP Destination Address\n",
    "data_features['dstip'] = data_features['dstip'].apply(lambda x: x.split(\".\")[-1])\n",
    "data_features['dstip'] = data_features['dstip'].apply(lambda x: x.split(\":\")[-1])\n",
    "data_features['dstip'] = data_features['dstip'].apply(lambda x: int(x, 16))\n",
    "\n",
    "# Ports\n",
    "data_features['sport'] = data_features['sport'].apply(lambda x: x.replace('0x','') if \"0x\" in str(x) else x)\n",
    "data_features['dsport'] = data_features['dsport'].apply(lambda x: x.replace('0x','') if \"0x\" in str(x) else x)\n",
    "\n",
    "# Convert all ports with 0 decimal, and HEX to DEC\n",
    "data_features['sport'] = data_features['sport'].apply(lambda x: str(x)[:-2] if str(x)[-2:] == '.0' else str(x))\n",
    "data_features['sport'] = data_features['sport'].apply(lambda x: -1 if str(x).isalpha()==True else int(x,16))\n",
    "\n",
    "data_features['dsport'] = data_features['dsport'].apply(lambda x: str(x)[:-2] if str(x)[-2:] == '.0' else str(x))\n",
    "data_features['dsport'] = data_features['dsport'].apply(lambda x: -1 if str(x).isalpha()==True else int(x,16))\n",
    "\n",
    "# Convert field to int format\n",
    "data_features['srcip'] = data_features['srcip'].astype(int)\n",
    "data_features['sport'] = data_features['sport'].astype(int)\n",
    "data_features['dstip'] = data_features['dstip'].astype(int)\n",
    "data_features['dsport'] = data_features['dsport'].astype(int)\n",
    "\n",
    "# Convert some fields to logarithmic\n",
    "log1p_col = ['dur', 'sbytes', 'dbytes', 'spkts']\n",
    "\n",
    "for col in log1p_col:\n",
    "    data_features[col] = data_features[col].apply(np.log1p)\n",
    "    \n",
    "# Create a complementary field of attack & Transform to One hot encoding - LABELS\n",
    "normal=data_labels['label']\n",
    "normal=normal.replace(1,2)\n",
    "normal=normal.replace(0,1)\n",
    "normal=normal.replace(2,0)\n",
    "\n",
    "# Insert the new column in data labels\n",
    "data_labels.insert(1, 'normal', normal)\n",
    "data_labels = pd.get_dummies(data_labels)\n",
    "\n",
    "# Transform to One hot encoding - FEATURES\n",
    "data_features=pd.get_dummies(data_features)\n",
    "\n",
    "# Generate 2 new columns to fit with training\n",
    "auxCol=data_features['sbytes']\n",
    "auxCol=0\n",
    "data_features.insert(13, 'proto_igmp', auxCol, True)\n",
    "data_features.insert(21, 'state_PAR', auxCol, True)\n",
    "\n",
    "# Normalize all data features\n",
    "data_features = StandardScaler().fit_transform(data_features)\n",
    "\n",
    "#Add dimension to data features\n",
    "data_features = np.expand_dims(data_features, axis=2)\n",
    "data_features = np.expand_dims(data_features, axis=3)\n",
    "\n",
    "x_test, y_test=data_features, data_labels"
   ]
  },
  {
   "cell_type": "code",
   "execution_count": 47,
   "metadata": {},
   "outputs": [
    {
     "data": {
      "text/plain": [
       "(55052, 24, 1, 1)"
      ]
     },
     "execution_count": 47,
     "metadata": {},
     "output_type": "execute_result"
    }
   ],
   "source": [
    "x_test.shape"
   ]
  },
  {
   "cell_type": "markdown",
   "metadata": {},
   "source": [
    "## Load Pretrained Model\n",
    "Loading pretrained model from BoT-IoT and freeze convolutional base"
   ]
  },
  {
   "cell_type": "code",
   "execution_count": 48,
   "metadata": {},
   "outputs": [],
   "source": [
    "# Load model of BoT-IoT Dataset\n",
    "pre_trained_model = load_model('../models/BoT-IoT_CNN_Detection_Best.hdf5')"
   ]
  },
  {
   "cell_type": "code",
   "execution_count": 49,
   "metadata": {},
   "outputs": [],
   "source": [
    "# Setting all layers to non trainable\n",
    "pre_trained_model.trainable=False"
   ]
  },
  {
   "cell_type": "code",
   "execution_count": 50,
   "metadata": {},
   "outputs": [],
   "source": [
    "# Removing the last 3 layers to get only the convolutional base\n",
    "pre_trained_model.pop()\n",
    "pre_trained_model.pop()\n",
    "pre_trained_model.pop()"
   ]
  },
  {
   "cell_type": "code",
   "execution_count": 51,
   "metadata": {},
   "outputs": [
    {
     "name": "stdout",
     "output_type": "stream",
     "text": [
      "Model: \"sequential\"\n",
      "_________________________________________________________________\n",
      "Layer (type)                 Output Shape              Param #   \n",
      "=================================================================\n",
      "conv2d (Conv2D)              (None, 24, 1, 32)         352       \n",
      "_________________________________________________________________\n",
      "max_pooling2d (MaxPooling2D) (None, 24, 1, 32)         0         \n",
      "_________________________________________________________________\n",
      "conv2d_1 (Conv2D)            (None, 24, 1, 64)         20544     \n",
      "_________________________________________________________________\n",
      "max_pooling2d_1 (MaxPooling2 (None, 24, 1, 64)         0         \n",
      "=================================================================\n",
      "Total params: 20,896\n",
      "Trainable params: 0\n",
      "Non-trainable params: 20,896\n",
      "_________________________________________________________________\n"
     ]
    }
   ],
   "source": [
    "pre_trained_model.summary()"
   ]
  },
  {
   "cell_type": "markdown",
   "metadata": {},
   "source": [
    "## Transfer Learning\n",
    "Creating the new model and training"
   ]
  },
  {
   "cell_type": "code",
   "execution_count": 52,
   "metadata": {},
   "outputs": [],
   "source": [
    "# New model building\n",
    "modelFE = models.Sequential()\n",
    "modelFE.add(pre_trained_model)\n",
    "\n",
    "modelFE.add(layers.Flatten())\n",
    "modelFE.add(Dense(448, activation='relu'))\n",
    "modelFE.add(layers.Dropout(0.4))\n",
    "modelFE.add(Dense(224, activation='relu'))\n",
    "modelFE.add(layers.Dropout(0.3))\n",
    "modelFE.add(Dense(112, activation='relu'))\n",
    "modelFE.add(layers.Dropout(0.3))\n",
    "modelFE.add(Dense(2, activation='softmax'))"
   ]
  },
  {
   "cell_type": "code",
   "execution_count": 53,
   "metadata": {},
   "outputs": [
    {
     "name": "stdout",
     "output_type": "stream",
     "text": [
      "Model: \"sequential_2\"\n",
      "_________________________________________________________________\n",
      "Layer (type)                 Output Shape              Param #   \n",
      "=================================================================\n",
      "sequential (Sequential)      (None, 24, 1, 64)         20896     \n",
      "_________________________________________________________________\n",
      "flatten_2 (Flatten)          (None, 1536)              0         \n",
      "_________________________________________________________________\n",
      "dense_8 (Dense)              (None, 448)               688576    \n",
      "_________________________________________________________________\n",
      "dropout_6 (Dropout)          (None, 448)               0         \n",
      "_________________________________________________________________\n",
      "dense_9 (Dense)              (None, 224)               100576    \n",
      "_________________________________________________________________\n",
      "dropout_7 (Dropout)          (None, 224)               0         \n",
      "_________________________________________________________________\n",
      "dense_10 (Dense)             (None, 112)               25200     \n",
      "_________________________________________________________________\n",
      "dropout_8 (Dropout)          (None, 112)               0         \n",
      "_________________________________________________________________\n",
      "dense_11 (Dense)             (None, 2)                 226       \n",
      "=================================================================\n",
      "Total params: 835,474\n",
      "Trainable params: 814,578\n",
      "Non-trainable params: 20,896\n",
      "_________________________________________________________________\n"
     ]
    }
   ],
   "source": [
    "# Model summary\n",
    "modelFE.summary()"
   ]
  },
  {
   "cell_type": "code",
   "execution_count": 54,
   "metadata": {},
   "outputs": [],
   "source": [
    "# Early Stopping\n",
    "\n",
    "filepath = '../models/tmp/TransferLearning_Detection.hdf5' # define where the model is saved\n",
    "callbacks = [\n",
    "        keras.callbacks.EarlyStopping(\n",
    "            monitor = 'val_loss', # Use accuracy to monitor the model\n",
    "            patience = 2 # Stop after 5 steps with lower accuracy\n",
    "        ),\n",
    "        keras.callbacks.ModelCheckpoint(\n",
    "            filepath = filepath, # file where the checkpoint is saved\n",
    "            monitor = 'val_loss', # Don't overwrite the saved model unless val_loss is worse\n",
    "            save_best_only = True)]# Only save model if it is the best"
   ]
  },
  {
   "cell_type": "code",
   "execution_count": null,
   "metadata": {},
   "outputs": [],
   "source": [
    "#Configure model training\n",
    "modelFE.compile(optimizer=tf.keras.optimizers.Adam(2e-5), loss='categorical_crossentropy', metrics=['accuracy'])\n",
    "history = modelFE.fit(x_train, y_train, validation_data=(x_test, y_test), epochs=15,  batch_size=2048, callbacks=callbacks)"
   ]
  },
  {
   "cell_type": "markdown",
   "metadata": {},
   "source": [
    "## Loading Best model from Transfer Learning\n",
    "Load and validate the final transfer learning model"
   ]
  },
  {
   "cell_type": "code",
   "execution_count": 55,
   "metadata": {},
   "outputs": [],
   "source": [
    "# Load Transfer Learning model\n",
    "modelFE = load_model('../models/TransferLearning_Detection_Best.hdf5')"
   ]
  },
  {
   "cell_type": "code",
   "execution_count": 56,
   "metadata": {},
   "outputs": [
    {
     "name": "stdout",
     "output_type": "stream",
     "text": [
      "test loss, test acc: [0.04845095053315163, 0.9904453754425049]\n"
     ]
    }
   ],
   "source": [
    "#Evaluate the model\n",
    "results = modelFE.evaluate(x_test, y_test, verbose=0)\n",
    "print(\"test loss, test acc:\", results)"
   ]
  },
  {
   "cell_type": "code",
   "execution_count": 57,
   "metadata": {},
   "outputs": [
    {
     "data": {
      "image/png": "[encoded data removed]",
      "text/plain": [
       "<Figure size 432x288 with 1 Axes>"
      ]
     },
     "metadata": {},
     "output_type": "display_data"
    }
   ],
   "source": [
    "# Prediction\n",
    "predicted = modelFE.predict(x_test)\n",
    "\n",
    "# Confusion matrix\n",
    "y_class = np.argmax(predicted, axis = 1)\n",
    "y_test1=y_test\n",
    "y_test1=y_test1.to_numpy()\n",
    "y_check = np.argmax(y_test1, axis = 1) \n",
    "\n",
    "cmatrix = confusion_matrix(y_check, y_class)\n",
    "\n",
    "cmatrix_df = pd.DataFrame(cmatrix, index = ['Attack', 'Normal'], columns = ['Attack', 'Normal'])\n",
    "plt.title('Confusion matrix of the test/predicted attacks using TL', weight='bold', fontsize=14)\n",
    "plt.tick_params(length=0)\n",
    "plt.xlabel('Attacks')\n",
    "plt.ylabel('Predicted Attacks')\n",
    "sns.heatmap(cmatrix_df, annot=True, fmt=\"d\", cbar=False)\n",
    "plt.show()"
   ]
  },
  {
   "cell_type": "code",
   "execution_count": 58,
   "metadata": {},
   "outputs": [
    {
     "data": {
      "image/png": "[encoded data removed]",
      "text/plain": [
       "<Figure size 432x288 with 2 Axes>"
      ]
     },
     "metadata": {},
     "output_type": "display_data"
    }
   ],
   "source": [
    "# Precision, Recall & F1-Score\n",
    "class_rep = classification_report(y_check, y_class, target_names = ['Attack', 'Normal'], output_dict=True)\n",
    "plt.tick_params(axis='both', which='major', labelsize=10, labelbottom = False, bottom=False, top = False, labeltop=True)\n",
    "plt.tick_params(length=0)\n",
    "sns.heatmap(pd.DataFrame(class_rep).iloc[:-1, :-3].T, square=True, cbar=True, annot=True)\n",
    "plt.show()"
   ]
  },
  {
   "cell_type": "code",
   "execution_count": 59,
   "metadata": {},
   "outputs": [
    {
     "data": {
      "text/plain": [
       "{'Attack': {'precision': 0.9792147806004619,\n",
       "  'recall': 0.999462387825152,\n",
       "  'f1-score': 0.9892349883344931,\n",
       "  'support': 24181},\n",
       " 'Normal': {'precision': 0.9995719600935102,\n",
       "  'recall': 0.9833824625052638,\n",
       "  'f1-score': 0.9914111230854642,\n",
       "  'support': 30871},\n",
       " 'accuracy': 0.9904453970791252,\n",
       " 'macro avg': {'precision': 0.989393370346986,\n",
       "  'recall': 0.991422425165208,\n",
       "  'f1-score': 0.9903230557099787,\n",
       "  'support': 55052},\n",
       " 'weighted avg': {'precision': 0.9906302875417156,\n",
       "  'recall': 0.9904453970791252,\n",
       "  'f1-score': 0.99045527925757,\n",
       "  'support': 55052}}"
      ]
     },
     "execution_count": 59,
     "metadata": {},
     "output_type": "execute_result"
    }
   ],
   "source": [
    "class_rep"
   ]
  },
  {
   "cell_type": "markdown",
   "metadata": {},
   "source": [
    "## Analysing Attack Detection"
   ]
  },
  {
   "cell_type": "markdown",
   "metadata": {},
   "source": [
    "### Code"
   ]
  },
  {
   "cell_type": "code",
   "execution_count": 60,
   "metadata": {},
   "outputs": [
    {
     "data": {
      "text/plain": [
       "array([[9.6973932e-01, 3.0260701e-02],\n",
       "       [9.6813631e-01, 3.1863641e-02],\n",
       "       [9.5895910e-01, 4.1040875e-02],\n",
       "       ...,\n",
       "       [6.4985768e-05, 9.9993503e-01],\n",
       "       [8.4363208e-05, 9.9991560e-01],\n",
       "       [3.6288056e-04, 9.9963713e-01]], dtype=float32)"
      ]
     },
     "execution_count": 60,
     "metadata": {},
     "output_type": "execute_result"
    }
   ],
   "source": [
    "predicted"
   ]
  },
  {
   "cell_type": "code",
   "execution_count": 61,
   "metadata": {},
   "outputs": [],
   "source": [
    "df = pd.DataFrame(predicted)\n",
    "df.index = data.index"
   ]
  },
  {
   "cell_type": "code",
   "execution_count": 62,
   "metadata": {},
   "outputs": [],
   "source": [
    "df['attack']=data['label']\n",
    "df['category']=data['attack_cat']\n",
    "df['normal']=data_labels['normal']"
   ]
  },
  {
   "cell_type": "code",
   "execution_count": 63,
   "metadata": {},
   "outputs": [],
   "source": [
    "df.columns = ['pred_attack', 'pred_normal', 'attack', 'category', 'normal']"
   ]
  },
  {
   "cell_type": "code",
   "execution_count": 64,
   "metadata": {},
   "outputs": [],
   "source": [
    "dff=df\n",
    "df=pd.get_dummies(df)\n",
    "df=round(df)"
   ]
  },
  {
   "cell_type": "code",
   "execution_count": 65,
   "metadata": {},
   "outputs": [],
   "source": [
    "analysis=df.loc[df['category_analysis'] == 1]\n",
    "analysis=analysis[['pred_attack', 'pred_normal', 'attack', 'normal']]\n",
    "analysis_pred=analysis[['pred_attack','pred_normal']]\n",
    "analysis_check=analysis[['attack','normal']]\n",
    "\n",
    "backdoor=df.loc[df['category_backdoor'] == 1]\n",
    "backdoor=backdoor[['pred_attack', 'pred_normal', 'attack', 'normal']]\n",
    "backdoor_pred=backdoor[['pred_attack','pred_normal']]\n",
    "backdoor_check=backdoor[['attack','normal']]\n",
    "\n",
    "fuzzers=df.loc[df['category_fuzzers'] == 1]\n",
    "fuzzers=fuzzers[['pred_attack', 'pred_normal', 'attack', 'normal']]\n",
    "fuzzers_pred=fuzzers[['pred_attack','pred_normal']]\n",
    "fuzzers_check=fuzzers[['attack','normal']]\n",
    "\n",
    "normal=df.loc[df['category_normal'] == 1]\n",
    "normal=normal[['pred_attack', 'pred_normal', 'attack', 'normal']]\n",
    "normal_pred=normal[['pred_attack','pred_normal']]\n",
    "normal_check=normal[['attack','normal']]\n",
    "\n",
    "shellcode=df.loc[df['category_shellcode'] == 1]\n",
    "shellcode=shellcode[['pred_attack', 'pred_normal', 'attack', 'normal']]\n",
    "shellcode_pred=shellcode[['pred_attack','pred_normal']]\n",
    "shellcode_check=shellcode[['attack','normal']]\n",
    "\n",
    "worms=df.loc[df['category_worms'] == 1]\n",
    "worms=worms[['pred_attack', 'pred_normal', 'attack', 'normal']]\n",
    "worms_pred=worms[['pred_attack','pred_normal']]\n",
    "worms_check=worms[['attack','normal']]"
   ]
  },
  {
   "cell_type": "code",
   "execution_count": 66,
   "metadata": {},
   "outputs": [],
   "source": [
    "#Correctly detected\n",
    "countdata=pd.DataFrame()\n",
    "normal_c = normal['pred_normal'] * normal['normal']\n",
    "analysis_c = analysis['pred_attack'] * analysis['attack']\n",
    "backdoor_c = backdoor['pred_attack'] * backdoor['attack']\n",
    "fuzzers_c = fuzzers['pred_attack'] * fuzzers['attack']\n",
    "shellcode_c = shellcode['pred_attack'] * shellcode['attack']\n",
    "worms_c = worms['pred_attack'] * worms['attack']\n"
   ]
  },
  {
   "cell_type": "code",
   "execution_count": 67,
   "metadata": {},
   "outputs": [],
   "source": [
    "# Count 0 and 1\n",
    "normal_c0 = (normal_c == 0).sum()\n",
    "normal_c1 = len(normal) - normal_c0\n",
    "\n",
    "analysis_c0 = (analysis_c == 0).sum()\n",
    "analysis_c1 = len(analysis) - analysis_c0\n",
    "\n",
    "backdoor_c0 = (backdoor_c == 0).sum()\n",
    "backdoor_c1 = len(backdoor) - backdoor_c0\n",
    "\n",
    "fuzzers_c0 = (fuzzers_c == 0).sum()\n",
    "fuzzers_c1 = len(fuzzers) - fuzzers_c0\n",
    "\n",
    "shellcode_c0 = (shellcode_c == 0).sum()\n",
    "shellcode_c1 = len(shellcode) - shellcode_c0\n",
    "\n",
    "worms_c0 = (worms_c == 0).sum()\n",
    "worms_c1 = len(worms) - worms_c0"
   ]
  },
  {
   "cell_type": "code",
   "execution_count": 68,
   "metadata": {},
   "outputs": [
    {
     "name": "stdout",
     "output_type": "stream",
     "text": [
      "There are 1.66 % of NO detected and 98.34 % of detected samples\n"
     ]
    }
   ],
   "source": [
    "normal_0, normal_1 = normal_c0*100 / len(normal), normal_c1*100 / len(normal)\n",
    "print(\"There are {:.2f} % of NO detected and {:.2f} % of detected samples\".format(normal_0, normal_1))"
   ]
  },
  {
   "cell_type": "code",
   "execution_count": 69,
   "metadata": {},
   "outputs": [
    {
     "name": "stdout",
     "output_type": "stream",
     "text": [
      "There are 0.00 % of NO detected and 100.00 % of detected samples\n"
     ]
    }
   ],
   "source": [
    "analysis_0, analysis_1 = analysis_c0*100 / len(analysis), analysis_c1*100 / len(analysis)\n",
    "print(\"There are {:.2f} % of NO detected and {:.2f} % of detected samples\".format(analysis_0, analysis_1))"
   ]
  },
  {
   "cell_type": "code",
   "execution_count": 70,
   "metadata": {},
   "outputs": [
    {
     "name": "stdout",
     "output_type": "stream",
     "text": [
      "There are 0.00 % of NO detected and 100.00 % of detected samples\n"
     ]
    }
   ],
   "source": [
    "backdoor_0, backdoor_1 = backdoor_c0*100 / len(backdoor), backdoor_c1*100 / len(backdoor)\n",
    "print(\"There are {:.2f} % of NO detected and {:.2f} % of detected samples\".format(backdoor_0, backdoor_1))"
   ]
  },
  {
   "cell_type": "code",
   "execution_count": 71,
   "metadata": {},
   "outputs": [
    {
     "name": "stdout",
     "output_type": "stream",
     "text": [
      "There are 0.05 % of NO detected and 99.95 % of detected samples\n"
     ]
    }
   ],
   "source": [
    "fuzzers_0, fuzzers_1 = fuzzers_c0*100 / len(fuzzers), fuzzers_c1*100 / len(fuzzers)\n",
    "print(\"There are {:.2f} % of NO detected and {:.2f} % of detected samples\".format(fuzzers_0, fuzzers_1))"
   ]
  },
  {
   "cell_type": "code",
   "execution_count": 72,
   "metadata": {},
   "outputs": [
    {
     "name": "stdout",
     "output_type": "stream",
     "text": [
      "There are 0.07 % of NO detected and 99.93 % of detected samples\n"
     ]
    }
   ],
   "source": [
    "shellcode_0, shellcode_1 = shellcode_c0*100 / len(shellcode), shellcode_c1*100 / len(shellcode)\n",
    "print(\"There are {:.2f} % of NO detected and {:.2f} % of detected samples\".format(shellcode_0, shellcode_1))"
   ]
  },
  {
   "cell_type": "code",
   "execution_count": 73,
   "metadata": {},
   "outputs": [
    {
     "name": "stdout",
     "output_type": "stream",
     "text": [
      "There are 1.15 % of NO detected and 98.85 % of detected samples\n"
     ]
    }
   ],
   "source": [
    "worms_0, worms_1 = worms_c0*100 / len(worms), worms_c1*100 / len(worms)\n",
    "print(\"There are {:.2f} % of NO detected and {:.2f} % of detected samples\".format(worms_0, worms_1))"
   ]
  },
  {
   "cell_type": "code",
   "execution_count": 74,
   "metadata": {},
   "outputs": [],
   "source": [
    "summary = pd.DataFrame({\"Traffic\":\n",
    "                   [\"Normal\", \"Analysis\", \"Backdoor\", \"Fuzzers\", \"Shellcode\", \"Worms\"],\n",
    "                   \"Detected %\": [normal_1, analysis_1, backdoor_1, fuzzers_1, shellcode_1, worms_1],\n",
    "                   \"No Detected %\": [normal_0, analysis_0, backdoor_0, fuzzers_0, shellcode_0, worms_0],\n",
    "                   \"Detected Samples\": [normal_c1, analysis_c1, backdoor_c1, fuzzers_c1, shellcode_c1, worms_c1],\n",
    "                   \"No Detected Samples\": [normal_c0, analysis_c0, backdoor_c0, fuzzers_c0, shellcode_c0, worms_c0]})"
   ]
  },
  {
   "cell_type": "code",
   "execution_count": 75,
   "metadata": {},
   "outputs": [],
   "source": [
    "dff['category_pred'] = np.where(((df['attack'] == 1) & (df['pred_attack'] == 1)) | ((df['normal'] == 1) & (df['pred_normal'] == 1)), 'Detected', 'No Detected')"
   ]
  },
  {
   "cell_type": "code",
   "execution_count": 76,
   "metadata": {},
   "outputs": [],
   "source": [
    "data_plot=dff[['category', 'category_pred']]"
   ]
  },
  {
   "cell_type": "code",
   "execution_count": 77,
   "metadata": {},
   "outputs": [
    {
     "data": {
      "text/html": [
       "<div>\n",
       "<style scoped>\n",
       "    .dataframe tbody tr th:only-of-type {\n",
       "        vertical-align: middle;\n",
       "    }\n",
       "\n",
       "    .dataframe tbody tr th {\n",
       "        vertical-align: top;\n",
       "    }\n",
       "\n",
       "    .dataframe thead th {\n",
       "        text-align: right;\n",
       "    }\n",
       "</style>\n",
       "<table border=\"1\" class=\"dataframe\">\n",
       "  <thead>\n",
       "    <tr style=\"text-align: right;\">\n",
       "      <th></th>\n",
       "      <th>category</th>\n",
       "      <th>category_pred</th>\n",
       "    </tr>\n",
       "  </thead>\n",
       "  <tbody>\n",
       "    <tr>\n",
       "      <th>4</th>\n",
       "      <td>fuzzers</td>\n",
       "      <td>Detected</td>\n",
       "    </tr>\n",
       "    <tr>\n",
       "      <th>5</th>\n",
       "      <td>fuzzers</td>\n",
       "      <td>Detected</td>\n",
       "    </tr>\n",
       "    <tr>\n",
       "      <th>6</th>\n",
       "      <td>fuzzers</td>\n",
       "      <td>Detected</td>\n",
       "    </tr>\n",
       "    <tr>\n",
       "      <th>7</th>\n",
       "      <td>fuzzers</td>\n",
       "      <td>Detected</td>\n",
       "    </tr>\n",
       "    <tr>\n",
       "      <th>8</th>\n",
       "      <td>fuzzers</td>\n",
       "      <td>Detected</td>\n",
       "    </tr>\n",
       "    <tr>\n",
       "      <th>...</th>\n",
       "      <td>...</td>\n",
       "      <td>...</td>\n",
       "    </tr>\n",
       "    <tr>\n",
       "      <th>61869</th>\n",
       "      <td>normal</td>\n",
       "      <td>Detected</td>\n",
       "    </tr>\n",
       "    <tr>\n",
       "      <th>61870</th>\n",
       "      <td>normal</td>\n",
       "      <td>Detected</td>\n",
       "    </tr>\n",
       "    <tr>\n",
       "      <th>61871</th>\n",
       "      <td>normal</td>\n",
       "      <td>Detected</td>\n",
       "    </tr>\n",
       "    <tr>\n",
       "      <th>61872</th>\n",
       "      <td>normal</td>\n",
       "      <td>Detected</td>\n",
       "    </tr>\n",
       "    <tr>\n",
       "      <th>61873</th>\n",
       "      <td>normal</td>\n",
       "      <td>Detected</td>\n",
       "    </tr>\n",
       "  </tbody>\n",
       "</table>\n",
       "<p>55052 rows × 2 columns</p>\n",
       "</div>"
      ],
      "text/plain": [
       "      category category_pred\n",
       "4      fuzzers      Detected\n",
       "5      fuzzers      Detected\n",
       "6      fuzzers      Detected\n",
       "7      fuzzers      Detected\n",
       "8      fuzzers      Detected\n",
       "...        ...           ...\n",
       "61869   normal      Detected\n",
       "61870   normal      Detected\n",
       "61871   normal      Detected\n",
       "61872   normal      Detected\n",
       "61873   normal      Detected\n",
       "\n",
       "[55052 rows x 2 columns]"
      ]
     },
     "execution_count": 77,
     "metadata": {},
     "output_type": "execute_result"
    }
   ],
   "source": [
    "data_plot"
   ]
  },
  {
   "cell_type": "markdown",
   "metadata": {},
   "source": [
    "### Results"
   ]
  },
  {
   "cell_type": "code",
   "execution_count": 78,
   "metadata": {},
   "outputs": [
    {
     "data": {
      "image/png": "[encoded data removed]",
      "text/plain": [
       "<Figure size 1080x360 with 1 Axes>"
      ]
     },
     "metadata": {},
     "output_type": "display_data"
    }
   ],
   "source": [
    "# Plotting target label distribution\n",
    "plt.figure(figsize=(15,5))\n",
    "sns.set_theme(style=\"darkgrid\")\n",
    "sns.countplot(x=data_plot['category'], data=data_plot, hue=data_plot['category_pred'])\n",
    "plt.title('The detection of the attacks in Test+ dataset', weight='bold', fontsize='18')\n",
    "plt.xticks(weight='bold', fontsize=12)\n",
    "plt.show()"
   ]
  },
  {
   "cell_type": "code",
   "execution_count": 79,
   "metadata": {},
   "outputs": [
    {
     "data": {
      "text/html": [
       "<div>\n",
       "<style scoped>\n",
       "    .dataframe tbody tr th:only-of-type {\n",
       "        vertical-align: middle;\n",
       "    }\n",
       "\n",
       "    .dataframe tbody tr th {\n",
       "        vertical-align: top;\n",
       "    }\n",
       "\n",
       "    .dataframe thead th {\n",
       "        text-align: right;\n",
       "    }\n",
       "</style>\n",
       "<table border=\"1\" class=\"dataframe\">\n",
       "  <thead>\n",
       "    <tr style=\"text-align: right;\">\n",
       "      <th></th>\n",
       "      <th>Traffic</th>\n",
       "      <th>Detected %</th>\n",
       "      <th>No Detected %</th>\n",
       "      <th>Detected Samples</th>\n",
       "      <th>No Detected Samples</th>\n",
       "    </tr>\n",
       "  </thead>\n",
       "  <tbody>\n",
       "    <tr>\n",
       "      <th>0</th>\n",
       "      <td>Normal</td>\n",
       "      <td>98.338246</td>\n",
       "      <td>1.661754</td>\n",
       "      <td>30358</td>\n",
       "      <td>513</td>\n",
       "    </tr>\n",
       "    <tr>\n",
       "      <th>1</th>\n",
       "      <td>Analysis</td>\n",
       "      <td>100.000000</td>\n",
       "      <td>0.000000</td>\n",
       "      <td>622</td>\n",
       "      <td>0</td>\n",
       "    </tr>\n",
       "    <tr>\n",
       "      <th>2</th>\n",
       "      <td>Backdoor</td>\n",
       "      <td>100.000000</td>\n",
       "      <td>0.000000</td>\n",
       "      <td>357</td>\n",
       "      <td>0</td>\n",
       "    </tr>\n",
       "    <tr>\n",
       "      <th>3</th>\n",
       "      <td>Fuzzers</td>\n",
       "      <td>99.953525</td>\n",
       "      <td>0.046475</td>\n",
       "      <td>21507</td>\n",
       "      <td>10</td>\n",
       "    </tr>\n",
       "    <tr>\n",
       "      <th>4</th>\n",
       "      <td>Shellcode</td>\n",
       "      <td>99.933819</td>\n",
       "      <td>0.066181</td>\n",
       "      <td>1510</td>\n",
       "      <td>1</td>\n",
       "    </tr>\n",
       "    <tr>\n",
       "      <th>5</th>\n",
       "      <td>Worms</td>\n",
       "      <td>98.850575</td>\n",
       "      <td>1.149425</td>\n",
       "      <td>172</td>\n",
       "      <td>2</td>\n",
       "    </tr>\n",
       "  </tbody>\n",
       "</table>\n",
       "</div>"
      ],
      "text/plain": [
       "     Traffic  Detected %  No Detected %  Detected Samples  No Detected Samples\n",
       "0     Normal   98.338246       1.661754             30358                  513\n",
       "1   Analysis  100.000000       0.000000               622                    0\n",
       "2   Backdoor  100.000000       0.000000               357                    0\n",
       "3    Fuzzers   99.953525       0.046475             21507                   10\n",
       "4  Shellcode   99.933819       0.066181              1510                    1\n",
       "5      Worms   98.850575       1.149425               172                    2"
      ]
     },
     "execution_count": 79,
     "metadata": {},
     "output_type": "execute_result"
    }
   ],
   "source": [
    "summary"
   ]
  },
  {
   "cell_type": "markdown",
   "metadata": {},
   "source": [
    "## UNSW-NB15-Train-Basic for training and UNSW-NB15-Test for validation"
   ]
  },
  {
   "cell_type": "code",
   "execution_count": 80,
   "metadata": {},
   "outputs": [],
   "source": [
    "# Load UNSW-NB15-Test+\n",
    "data = pd.read_csv('../datasets/UNSW-NB15-Test.csv', low_memory=False)\n",
    "\n",
    "# Select the 'proto' and 'state' values that I want\n",
    "data = data.loc[(data['proto'] == 'tcp') | (data['proto'] =='udp') | (data['proto'] =='icmp') | (data['proto'] =='arp') | (data['proto'] =='ipv6-icmp') | (data['proto'] =='igmp') | (data['proto'] =='rarp'), :]\n",
    "data = data.loc[(data['state'] == 'RST') | (data['state'] =='REQ') | (data['state'] =='INT') | (data['state'] =='FIN') | (data['state'] =='CON') | (data['state'] =='ECO') | (data['state'] =='ACC') | (data['state'] =='PAR'), :]\n",
    "\n",
    "# Extracting dataset labels\n",
    "data_labels=data[['label']]\n",
    "\n",
    "#Extracting dataset features\n",
    "data_features=data[['proto','srcip','sport','dstip','dsport','spkts','dpkts','sbytes','dbytes','state','stime','ltime','dur']]"
   ]
  },
  {
   "cell_type": "code",
   "execution_count": 81,
   "metadata": {},
   "outputs": [],
   "source": [
    "\"\"\"PREPROCESSING\"\"\"\n",
    "\n",
    "# Preprocess IP and ports features\n",
    "# IP Source Address\n",
    "data_features['srcip'] = data_features['srcip'].apply(lambda x: x.split(\".\")[-1])\n",
    "data_features['srcip'] = data_features['srcip'].apply(lambda x: x.split(\":\")[-1])\n",
    "data_features['srcip'] = data_features['srcip'].apply(lambda x: int(x, 16))\n",
    "\n",
    "# IP Destination Address\n",
    "data_features['dstip'] = data_features['dstip'].apply(lambda x: x.split(\".\")[-1])\n",
    "data_features['dstip'] = data_features['dstip'].apply(lambda x: x.split(\":\")[-1])\n",
    "data_features['dstip'] = data_features['dstip'].apply(lambda x: int(x, 16))\n",
    "\n",
    "# Ports\n",
    "data_features['sport'] = data_features['sport'].apply(lambda x: x.replace('0x','') if \"0x\" in str(x) else x)\n",
    "data_features['dsport'] = data_features['dsport'].apply(lambda x: x.replace('0x','') if \"0x\" in str(x) else x)\n",
    "\n",
    "# Convert all ports with 0 decimal, and HEX to DEC\n",
    "data_features['sport'] = data_features['sport'].apply(lambda x: str(x)[:-2] if str(x)[-2:] == '.0' else str(x))\n",
    "data_features['sport'] = data_features['sport'].apply(lambda x: -1 if str(x).isalpha()==True else int(x,16))\n",
    "\n",
    "data_features['dsport'] = data_features['dsport'].replace('-', -1)\n",
    "data_features['dsport'] = data_features['dsport'].apply(lambda x: str(x)[:-2] if str(x)[-2:] == '.0' else str(x))\n",
    "data_features['dsport'] = data_features['dsport'].apply(lambda x: -1 if str(x).isalpha()==True else int(x,16))\n",
    "\n",
    "# Convert field to int format\n",
    "data_features['srcip'] = data_features['srcip'].astype(int)\n",
    "data_features['sport'] = data_features['sport'].astype(int)\n",
    "data_features['dstip'] = data_features['dstip'].astype(int)\n",
    "data_features['dsport'] = data_features['dsport'].astype(int)\n",
    "\n",
    "# Convert some fields to logarithmic\n",
    "log1p_col = ['dur', 'sbytes', 'dbytes', 'spkts']\n",
    "\n",
    "for col in log1p_col:\n",
    "    data_features[col] = data_features[col].apply(np.log1p)\n",
    "    \n",
    "# Create a complementary field of attack & Transform to One hot encoding - LABELS\n",
    "normal=data_labels['label']\n",
    "normal=normal.replace(1,2)\n",
    "normal=normal.replace(0,1)\n",
    "normal=normal.replace(2,0)\n",
    "\n",
    "# Insert the new column in data labels\n",
    "data_labels.insert(1, 'normal', normal)\n",
    "data_labels = pd.get_dummies(data_labels)\n",
    "\n",
    "# Transform to One hot encoding - FEATURES\n",
    "data_features=pd.get_dummies(data_features)\n",
    "\n",
    "# Normalize all data features\n",
    "data_features = StandardScaler().fit_transform(data_features)\n",
    "\n",
    "#Add dimension to data features\n",
    "data_features = np.expand_dims(data_features, axis=2)\n",
    "data_features = np.expand_dims(data_features, axis=3)\n",
    "\n",
    "x_test, y_test=data_features, data_labels"
   ]
  },
  {
   "cell_type": "code",
   "execution_count": 82,
   "metadata": {},
   "outputs": [
    {
     "data": {
      "text/plain": [
       "(2495843, 24, 1, 1)"
      ]
     },
     "execution_count": 82,
     "metadata": {},
     "output_type": "execute_result"
    }
   ],
   "source": [
    "x_test.shape"
   ]
  },
  {
   "cell_type": "code",
   "execution_count": 83,
   "metadata": {},
   "outputs": [],
   "source": [
    "# Load Transfer Learning model\n",
    "modelFE = load_model('../models/TransferLearning_Detection_Best.hdf5')"
   ]
  },
  {
   "cell_type": "code",
   "execution_count": 84,
   "metadata": {},
   "outputs": [
    {
     "name": "stdout",
     "output_type": "stream",
     "text": [
      "test loss, test acc: [0.08837240934371948, 0.9788908958435059]\n"
     ]
    }
   ],
   "source": [
    "#Evaluate the model\n",
    "results = modelFE.evaluate(x_test, y_test, verbose=0)\n",
    "print(\"test loss, test acc:\", results)"
   ]
  },
  {
   "cell_type": "code",
   "execution_count": 85,
   "metadata": {},
   "outputs": [
    {
     "data": {
      "image/png": "[encoded data removed]",
      "text/plain": [
       "<Figure size 432x288 with 1 Axes>"
      ]
     },
     "metadata": {},
     "output_type": "display_data"
    }
   ],
   "source": [
    "# Prediction\n",
    "predicted = modelFE.predict(x_test)\n",
    "\n",
    "# Confusion matrix\n",
    "y_class = np.argmax(predicted, axis = 1)\n",
    "y_test1=y_test\n",
    "y_test1=y_test1.to_numpy()\n",
    "y_check = np.argmax(y_test1, axis = 1) \n",
    "\n",
    "cmatrix = confusion_matrix(y_check, y_class)\n",
    "\n",
    "cmatrix_df = pd.DataFrame(cmatrix, index = ['Attack', 'Normal'], columns = ['Attack', 'Normal'])\n",
    "plt.title('Confusion matrix of the test/predicted attacks ', weight='bold', fontsize=18)\n",
    "plt.tick_params(length=0)\n",
    "plt.xlabel('Attacks')\n",
    "plt.ylabel('Predicted Attacks')\n",
    "sns.heatmap(cmatrix_df, annot=True, fmt=\"d\", cbar=False)\n",
    "plt.show()"
   ]
  },
  {
   "cell_type": "code",
   "execution_count": 86,
   "metadata": {},
   "outputs": [
    {
     "data": {
      "image/png": "[encoded data removed]",
      "text/plain": [
       "<Figure size 432x288 with 2 Axes>"
      ]
     },
     "metadata": {},
     "output_type": "display_data"
    }
   ],
   "source": [
    "# Precision, Recall & F1-Score\n",
    "class_rep = classification_report(y_check, y_class, target_names = ['Attack', 'Normal'], output_dict=True)\n",
    "plt.tick_params(axis='both', which='major', labelsize=10, labelbottom = False, bottom=False, top = False, labeltop=True)\n",
    "plt.tick_params(length=0)\n",
    "sns.heatmap(pd.DataFrame(class_rep).iloc[:-1, :-3].T, square=True, cbar=True, annot=True)\n",
    "plt.show()"
   ]
  },
  {
   "cell_type": "code",
   "execution_count": 89,
   "metadata": {},
   "outputs": [],
   "source": [
    "# Precision, Recall & F1-Score\n",
    "FPR, TPR, THRESHOLD = metrics.roc_curve(y_check, y_class)"
   ]
  },
  {
   "cell_type": "code",
   "execution_count": 90,
   "metadata": {},
   "outputs": [
    {
     "data": {
      "text/plain": [
       "0.0004823841125373759"
      ]
     },
     "execution_count": 90,
     "metadata": {},
     "output_type": "execute_result"
    }
   ],
   "source": [
    "FPR[1]"
   ]
  },
  {
   "cell_type": "code",
   "execution_count": 91,
   "metadata": {},
   "outputs": [
    {
     "data": {
      "text/plain": [
       "{'Attack': {'precision': 0.8428304809987258,\n",
       "  'recall': 0.9995176158874626,\n",
       "  'f1-score': 0.9145111223974856,\n",
       "  'support': 281933},\n",
       " 'Normal': {'precision': 0.9999370806436465,\n",
       "  'recall': 0.976264166113347,\n",
       "  'f1-score': 0.9879588344581429,\n",
       "  'support': 2213910},\n",
       " 'accuracy': 0.9788908997881678,\n",
       " 'macro avg': {'precision': 0.9213837808211862,\n",
       "  'recall': 0.9878908910004047,\n",
       "  'f1-score': 0.9512349784278142,\n",
       "  'support': 2495843},\n",
       " 'weighted avg': {'precision': 0.9821901570760616,\n",
       "  'recall': 0.9788908997881678,\n",
       "  'f1-score': 0.9796621051348652,\n",
       "  'support': 2495843}}"
      ]
     },
     "execution_count": 91,
     "metadata": {},
     "output_type": "execute_result"
    }
   ],
   "source": [
    "class_rep"
   ]
  },
  {
   "cell_type": "markdown",
   "metadata": {},
   "source": [
    "## Analysing Attack Detection"
   ]
  },
  {
   "cell_type": "markdown",
   "metadata": {},
   "source": [
    "### Code"
   ]
  },
  {
   "cell_type": "code",
   "execution_count": 92,
   "metadata": {},
   "outputs": [
    {
     "data": {
      "text/plain": [
       "array([[8.8871337e-02, 9.1112858e-01],\n",
       "       [9.5390514e-02, 9.0460944e-01],\n",
       "       [3.8764698e-03, 9.9612349e-01],\n",
       "       ...,\n",
       "       [2.4601141e-02, 9.7539890e-01],\n",
       "       [4.8684957e-05, 9.9995136e-01],\n",
       "       [6.9881588e-01, 3.0118412e-01]], dtype=float32)"
      ]
     },
     "execution_count": 92,
     "metadata": {},
     "output_type": "execute_result"
    }
   ],
   "source": [
    "predicted"
   ]
  },
  {
   "cell_type": "code",
   "execution_count": 93,
   "metadata": {},
   "outputs": [],
   "source": [
    "df = pd.DataFrame(predicted)\n",
    "df.index = data.index"
   ]
  },
  {
   "cell_type": "code",
   "execution_count": 94,
   "metadata": {},
   "outputs": [],
   "source": [
    "df['attack']=data['label']\n",
    "df['category']=data['attack_cat']\n",
    "df['normal']=data_labels['normal']"
   ]
  },
  {
   "cell_type": "code",
   "execution_count": 95,
   "metadata": {},
   "outputs": [],
   "source": [
    "df.columns = ['pred_attack', 'pred_normal', 'attack', 'category', 'normal']"
   ]
  },
  {
   "cell_type": "code",
   "execution_count": 96,
   "metadata": {},
   "outputs": [],
   "source": [
    "dff=df\n",
    "df=pd.get_dummies(df)\n",
    "df=round(df)"
   ]
  },
  {
   "cell_type": "code",
   "execution_count": 97,
   "metadata": {},
   "outputs": [],
   "source": [
    "analysis=df.loc[df['category_analysis'] == 1]\n",
    "analysis=analysis[['pred_attack', 'pred_normal', 'attack', 'normal']]\n",
    "analysis_pred=analysis[['pred_attack','pred_normal']]\n",
    "analysis_check=analysis[['attack','normal']]\n",
    "\n",
    "backdoor=df.loc[df['category_backdoor'] == 1]\n",
    "backdoor=backdoor[['pred_attack', 'pred_normal', 'attack', 'normal']]\n",
    "backdoor_pred=backdoor[['pred_attack','pred_normal']]\n",
    "backdoor_check=backdoor[['attack','normal']]\n",
    "\n",
    "fuzzers=df.loc[df['category_fuzzers'] == 1]\n",
    "fuzzers=fuzzers[['pred_attack', 'pred_normal', 'attack', 'normal']]\n",
    "fuzzers_pred=fuzzers[['pred_attack','pred_normal']]\n",
    "fuzzers_check=fuzzers[['attack','normal']]\n",
    "\n",
    "normal=df.loc[df['category_normal'] == 1]\n",
    "normal=normal[['pred_attack', 'pred_normal', 'attack', 'normal']]\n",
    "normal_pred=normal[['pred_attack','pred_normal']]\n",
    "normal_check=normal[['attack','normal']]\n",
    "\n",
    "shellcode=df.loc[df['category_shellcode'] == 1]\n",
    "shellcode=shellcode[['pred_attack', 'pred_normal', 'attack', 'normal']]\n",
    "shellcode_pred=shellcode[['pred_attack','pred_normal']]\n",
    "shellcode_check=shellcode[['attack','normal']]\n",
    "\n",
    "worms=df.loc[df['category_worms'] == 1]\n",
    "worms=worms[['pred_attack', 'pred_normal', 'attack', 'normal']]\n",
    "worms_pred=worms[['pred_attack','pred_normal']]\n",
    "worms_check=worms[['attack','normal']]\n",
    "\n",
    "generic=df.loc[df['category_generic'] == 1]\n",
    "generic=generic[['pred_attack', 'pred_normal', 'attack', 'normal']]\n",
    "generic_pred=generic[['pred_attack','pred_normal']]\n",
    "generic_check=generic[['attack','normal']]\n",
    "\n",
    "exploits=df.loc[df['category_exploits'] == 1]\n",
    "exploits=exploits[['pred_attack', 'pred_normal', 'attack', 'normal']]\n",
    "exploits_pred=exploits[['pred_attack','pred_normal']]\n",
    "exploits_check=exploits[['attack','normal']]\n",
    "\n",
    "reconnaissance=df.loc[df['category_reconnaissance'] == 1]\n",
    "reconnaissance=reconnaissance[['pred_attack', 'pred_normal', 'attack', 'normal']]\n",
    "reconnaissance_pred=reconnaissance[['pred_attack','pred_normal']]\n",
    "reconnaissance_check=reconnaissance[['attack','normal']]\n",
    "\n",
    "dos=df.loc[df['category_dos'] == 1]\n",
    "dos=dos[['pred_attack', 'pred_normal', 'attack', 'normal']]\n",
    "dos_pred=dos[['pred_attack','pred_normal']]\n",
    "dos_check=dos[['attack','normal']]"
   ]
  },
  {
   "cell_type": "code",
   "execution_count": 98,
   "metadata": {},
   "outputs": [],
   "source": [
    "#Correctly detected\n",
    "countdata=pd.DataFrame()\n",
    "normal_c = normal['pred_normal'] * normal['normal']\n",
    "analysis_c = analysis['pred_attack'] * analysis['attack']\n",
    "backdoor_c = backdoor['pred_attack'] * backdoor['attack']\n",
    "fuzzers_c = fuzzers['pred_attack'] * fuzzers['attack']\n",
    "shellcode_c = shellcode['pred_attack'] * shellcode['attack']\n",
    "worms_c = worms['pred_attack'] * worms['attack']\n",
    "generic_c = generic['pred_attack'] * generic['attack']\n",
    "exploits_c = exploits['pred_attack'] * exploits['attack']\n",
    "reconnaissance_c = reconnaissance['pred_attack'] * reconnaissance['attack']\n",
    "dos_c = dos['pred_attack'] * dos['attack']"
   ]
  },
  {
   "cell_type": "code",
   "execution_count": 99,
   "metadata": {},
   "outputs": [],
   "source": [
    "# Count 0 and 1\n",
    "normal_c0 = (normal_c == 0).sum()\n",
    "normal_c1 = len(normal) - normal_c0\n",
    "\n",
    "analysis_c0 = (analysis_c == 0).sum()\n",
    "analysis_c1 = len(analysis) - analysis_c0\n",
    "\n",
    "backdoor_c0 = (backdoor_c == 0).sum()\n",
    "backdoor_c1 = len(backdoor) - backdoor_c0\n",
    "\n",
    "fuzzers_c0 = (fuzzers_c == 0).sum()\n",
    "fuzzers_c1 = len(fuzzers) - fuzzers_c0\n",
    "\n",
    "shellcode_c0 = (shellcode_c == 0).sum()\n",
    "shellcode_c1 = len(shellcode) - shellcode_c0\n",
    "\n",
    "worms_c0 = (worms_c == 0).sum()\n",
    "worms_c1 = len(worms) - worms_c0\n",
    "\n",
    "generic_c0 = (generic_c == 0).sum()\n",
    "generic_c1 = len(generic) - generic_c0\n",
    "\n",
    "exploits_c0 = (exploits_c == 0).sum()\n",
    "exploits_c1 = len(exploits) - exploits_c0\n",
    "\n",
    "reconnaissance_c0 = (reconnaissance_c == 0).sum()\n",
    "reconnaissance_c1 = len(reconnaissance) - reconnaissance_c0\n",
    "\n",
    "dos_c0 = (dos_c == 0).sum()\n",
    "dos_c1 = len(dos) - dos_c0"
   ]
  },
  {
   "cell_type": "code",
   "execution_count": 100,
   "metadata": {},
   "outputs": [
    {
     "name": "stdout",
     "output_type": "stream",
     "text": [
      "There are 2.37 % of NO detected and 97.63 % of detected samples\n"
     ]
    }
   ],
   "source": [
    "normal_0, normal_1 = normal_c0*100 / len(normal), normal_c1*100 / len(normal)\n",
    "print(\"There are {:.2f} % of NO detected and {:.2f} % of detected samples\".format(normal_0, normal_1))"
   ]
  },
  {
   "cell_type": "code",
   "execution_count": 101,
   "metadata": {},
   "outputs": [
    {
     "name": "stdout",
     "output_type": "stream",
     "text": [
      "There are 0.00 % of NO detected and 100.00 % of detected samples\n"
     ]
    }
   ],
   "source": [
    "analysis_0, analysis_1 = analysis_c0*100 / len(analysis), analysis_c1*100 / len(analysis)\n",
    "print(\"There are {:.2f} % of NO detected and {:.2f} % of detected samples\".format(analysis_0, analysis_1))"
   ]
  },
  {
   "cell_type": "code",
   "execution_count": 102,
   "metadata": {},
   "outputs": [
    {
     "name": "stdout",
     "output_type": "stream",
     "text": [
      "There are 0.00 % of NO detected and 100.00 % of detected samples\n"
     ]
    }
   ],
   "source": [
    "backdoor_0, backdoor_1 = backdoor_c0*100 / len(backdoor), backdoor_c1*100 / len(backdoor)\n",
    "print(\"There are {:.2f} % of NO detected and {:.2f} % of detected samples\".format(backdoor_0, backdoor_1))"
   ]
  },
  {
   "cell_type": "code",
   "execution_count": 103,
   "metadata": {},
   "outputs": [
    {
     "name": "stdout",
     "output_type": "stream",
     "text": [
      "There are 0.13 % of NO detected and 99.87 % of detected samples\n"
     ]
    }
   ],
   "source": [
    "fuzzers_0, fuzzers_1 = fuzzers_c0*100 / len(fuzzers), fuzzers_c1*100 / len(fuzzers)\n",
    "print(\"There are {:.2f} % of NO detected and {:.2f} % of detected samples\".format(fuzzers_0, fuzzers_1))"
   ]
  },
  {
   "cell_type": "code",
   "execution_count": 104,
   "metadata": {},
   "outputs": [
    {
     "name": "stdout",
     "output_type": "stream",
     "text": [
      "There are 0.07 % of NO detected and 99.93 % of detected samples\n"
     ]
    }
   ],
   "source": [
    "shellcode_0, shellcode_1 = shellcode_c0*100 / len(shellcode), shellcode_c1*100 / len(shellcode)\n",
    "print(\"There are {:.2f} % of NO detected and {:.2f} % of detected samples\".format(shellcode_0, shellcode_1))"
   ]
  },
  {
   "cell_type": "code",
   "execution_count": 105,
   "metadata": {},
   "outputs": [
    {
     "name": "stdout",
     "output_type": "stream",
     "text": [
      "There are 1.15 % of NO detected and 98.85 % of detected samples\n"
     ]
    }
   ],
   "source": [
    "worms_0, worms_1 = worms_c0*100 / len(worms), worms_c1*100 / len(worms)\n",
    "print(\"There are {:.2f} % of NO detected and {:.2f} % of detected samples\".format(worms_0, worms_1))"
   ]
  },
  {
   "cell_type": "code",
   "execution_count": 106,
   "metadata": {},
   "outputs": [
    {
     "name": "stdout",
     "output_type": "stream",
     "text": [
      "There are 0.02 % of NO detected and 99.98 % of detected samples\n"
     ]
    }
   ],
   "source": [
    "generic_0, generic_1 = generic_c0*100 / len(generic), generic_c1*100 / len(generic)\n",
    "print(\"There are {:.2f} % of NO detected and {:.2f} % of detected samples\".format(generic_0, generic_1))"
   ]
  },
  {
   "cell_type": "code",
   "execution_count": 107,
   "metadata": {},
   "outputs": [
    {
     "name": "stdout",
     "output_type": "stream",
     "text": [
      "There are 0.18 % of NO detected and 99.82 % of detected samples\n"
     ]
    }
   ],
   "source": [
    "exploits_0, exploits_1 = exploits_c0*100 / len(exploits), exploits_c1*100 / len(exploits)\n",
    "print(\"There are {:.2f} % of NO detected and {:.2f} % of detected samples\".format(exploits_0, exploits_1))"
   ]
  },
  {
   "cell_type": "code",
   "execution_count": 108,
   "metadata": {},
   "outputs": [
    {
     "name": "stdout",
     "output_type": "stream",
     "text": [
      "There are 0.02 % of NO detected and 99.98 % of detected samples\n"
     ]
    }
   ],
   "source": [
    "reconnaissance_0, reconnaissance_1 = reconnaissance_c0*100 / len(reconnaissance), reconnaissance_c1*100 / len(reconnaissance)\n",
    "print(\"There are {:.2f} % of NO detected and {:.2f} % of detected samples\".format(reconnaissance_0, reconnaissance_1))"
   ]
  },
  {
   "cell_type": "code",
   "execution_count": 109,
   "metadata": {},
   "outputs": [
    {
     "name": "stdout",
     "output_type": "stream",
     "text": [
      "There are 0.49 % of NO detected and 99.51 % of detected samples\n"
     ]
    }
   ],
   "source": [
    "dos_0, dos_1 = dos_c0*100 / len(dos), dos_c1*100 / len(dos)\n",
    "print(\"There are {:.2f} % of NO detected and {:.2f} % of detected samples\".format(dos_0, dos_1))"
   ]
  },
  {
   "cell_type": "code",
   "execution_count": 110,
   "metadata": {},
   "outputs": [],
   "source": [
    "summary = pd.DataFrame({\"Traffic\":\n",
    "                   [\"Normal\", \"Analysis\", \"Backdoor\", \"Fuzzers\", \"Shellcode\", \"Worms\", \"Generic\", \"Exploits\", \"Reconnaissance\", \"DoS\"],\n",
    "                   \"Detected %\": [normal_1, analysis_1, backdoor_1, fuzzers_1, shellcode_1, worms_1, generic_1, exploits_1, reconnaissance_1, dos_1],\n",
    "                   \"No Detected %\": [normal_0, analysis_0, backdoor_0, fuzzers_0, shellcode_0, worms_0, generic_0, exploits_0, reconnaissance_0, dos_0],\n",
    "                   \"Detected Samples\": [normal_c1, analysis_c1, backdoor_c1, fuzzers_c1, shellcode_c1, worms_c1, generic_c1, exploits_c1, reconnaissance_c1, dos_c1],\n",
    "                   \"No Detected Samples\": [normal_c0, analysis_c0, backdoor_c0, fuzzers_c0, shellcode_c0, worms_c0, generic_c0, exploits_c0, reconnaissance_c0, dos_c0]})"
   ]
  },
  {
   "cell_type": "code",
   "execution_count": 111,
   "metadata": {},
   "outputs": [],
   "source": [
    "dff['category_pred'] = np.where(((df['attack'] == 1) & (df['pred_attack'] == 1)) | ((df['normal'] == 1) & (df['pred_normal'] == 1)), 'Detected', 'No Detected')"
   ]
  },
  {
   "cell_type": "code",
   "execution_count": 112,
   "metadata": {},
   "outputs": [],
   "source": [
    "data_plot=dff[['category', 'category_pred']]"
   ]
  },
  {
   "cell_type": "code",
   "execution_count": 113,
   "metadata": {},
   "outputs": [
    {
     "data": {
      "text/html": [
       "<div>\n",
       "<style scoped>\n",
       "    .dataframe tbody tr th:only-of-type {\n",
       "        vertical-align: middle;\n",
       "    }\n",
       "\n",
       "    .dataframe tbody tr th {\n",
       "        vertical-align: top;\n",
       "    }\n",
       "\n",
       "    .dataframe thead th {\n",
       "        text-align: right;\n",
       "    }\n",
       "</style>\n",
       "<table border=\"1\" class=\"dataframe\">\n",
       "  <thead>\n",
       "    <tr style=\"text-align: right;\">\n",
       "      <th></th>\n",
       "      <th>category</th>\n",
       "      <th>category_pred</th>\n",
       "    </tr>\n",
       "  </thead>\n",
       "  <tbody>\n",
       "    <tr>\n",
       "      <th>0</th>\n",
       "      <td>normal</td>\n",
       "      <td>Detected</td>\n",
       "    </tr>\n",
       "    <tr>\n",
       "      <th>1</th>\n",
       "      <td>normal</td>\n",
       "      <td>Detected</td>\n",
       "    </tr>\n",
       "    <tr>\n",
       "      <th>2</th>\n",
       "      <td>normal</td>\n",
       "      <td>Detected</td>\n",
       "    </tr>\n",
       "    <tr>\n",
       "      <th>3</th>\n",
       "      <td>normal</td>\n",
       "      <td>Detected</td>\n",
       "    </tr>\n",
       "    <tr>\n",
       "      <th>4</th>\n",
       "      <td>normal</td>\n",
       "      <td>Detected</td>\n",
       "    </tr>\n",
       "    <tr>\n",
       "      <th>...</th>\n",
       "      <td>...</td>\n",
       "      <td>...</td>\n",
       "    </tr>\n",
       "    <tr>\n",
       "      <th>2540042</th>\n",
       "      <td>normal</td>\n",
       "      <td>Detected</td>\n",
       "    </tr>\n",
       "    <tr>\n",
       "      <th>2540043</th>\n",
       "      <td>normal</td>\n",
       "      <td>Detected</td>\n",
       "    </tr>\n",
       "    <tr>\n",
       "      <th>2540044</th>\n",
       "      <td>normal</td>\n",
       "      <td>Detected</td>\n",
       "    </tr>\n",
       "    <tr>\n",
       "      <th>2540045</th>\n",
       "      <td>normal</td>\n",
       "      <td>Detected</td>\n",
       "    </tr>\n",
       "    <tr>\n",
       "      <th>2540046</th>\n",
       "      <td>exploits</td>\n",
       "      <td>Detected</td>\n",
       "    </tr>\n",
       "  </tbody>\n",
       "</table>\n",
       "<p>2495843 rows × 2 columns</p>\n",
       "</div>"
      ],
      "text/plain": [
       "         category category_pred\n",
       "0          normal      Detected\n",
       "1          normal      Detected\n",
       "2          normal      Detected\n",
       "3          normal      Detected\n",
       "4          normal      Detected\n",
       "...           ...           ...\n",
       "2540042    normal      Detected\n",
       "2540043    normal      Detected\n",
       "2540044    normal      Detected\n",
       "2540045    normal      Detected\n",
       "2540046  exploits      Detected\n",
       "\n",
       "[2495843 rows x 2 columns]"
      ]
     },
     "execution_count": 113,
     "metadata": {},
     "output_type": "execute_result"
    }
   ],
   "source": [
    "data_plot"
   ]
  },
  {
   "cell_type": "markdown",
   "metadata": {},
   "source": [
    "### Results"
   ]
  },
  {
   "cell_type": "code",
   "execution_count": 114,
   "metadata": {},
   "outputs": [
    {
     "data": {
      "image/png": "[encoded data removed]",
      "text/plain": [
       "<Figure size 1080x360 with 1 Axes>"
      ]
     },
     "metadata": {},
     "output_type": "display_data"
    }
   ],
   "source": [
    "# Plotting target label distribution\n",
    "plt.figure(figsize=(15,5))\n",
    "sns.set_theme(style=\"darkgrid\")\n",
    "sns.countplot(x=data_plot['category'], data=data_plot, hue=data_plot['category_pred'])\n",
    "plt.title('The detection of the attacks in Test+ dataset', weight='bold', fontsize='18')\n",
    "plt.xticks(weight='bold', fontsize=12)\n",
    "plt.show()"
   ]
  },
  {
   "cell_type": "code",
   "execution_count": 115,
   "metadata": {},
   "outputs": [
    {
     "data": {
      "text/html": [
       "<div>\n",
       "<style scoped>\n",
       "    .dataframe tbody tr th:only-of-type {\n",
       "        vertical-align: middle;\n",
       "    }\n",
       "\n",
       "    .dataframe tbody tr th {\n",
       "        vertical-align: top;\n",
       "    }\n",
       "\n",
       "    .dataframe thead th {\n",
       "        text-align: right;\n",
       "    }\n",
       "</style>\n",
       "<table border=\"1\" class=\"dataframe\">\n",
       "  <thead>\n",
       "    <tr style=\"text-align: right;\">\n",
       "      <th></th>\n",
       "      <th>Traffic</th>\n",
       "      <th>Detected %</th>\n",
       "      <th>No Detected %</th>\n",
       "      <th>Detected Samples</th>\n",
       "      <th>No Detected Samples</th>\n",
       "    </tr>\n",
       "  </thead>\n",
       "  <tbody>\n",
       "    <tr>\n",
       "      <th>0</th>\n",
       "      <td>Normal</td>\n",
       "      <td>97.626417</td>\n",
       "      <td>2.373583</td>\n",
       "      <td>2161361</td>\n",
       "      <td>52549</td>\n",
       "    </tr>\n",
       "    <tr>\n",
       "      <th>1</th>\n",
       "      <td>Analysis</td>\n",
       "      <td>100.000000</td>\n",
       "      <td>0.000000</td>\n",
       "      <td>622</td>\n",
       "      <td>0</td>\n",
       "    </tr>\n",
       "    <tr>\n",
       "      <th>2</th>\n",
       "      <td>Backdoor</td>\n",
       "      <td>100.000000</td>\n",
       "      <td>0.000000</td>\n",
       "      <td>357</td>\n",
       "      <td>0</td>\n",
       "    </tr>\n",
       "    <tr>\n",
       "      <th>3</th>\n",
       "      <td>Fuzzers</td>\n",
       "      <td>99.869870</td>\n",
       "      <td>0.130130</td>\n",
       "      <td>21489</td>\n",
       "      <td>28</td>\n",
       "    </tr>\n",
       "    <tr>\n",
       "      <th>4</th>\n",
       "      <td>Shellcode</td>\n",
       "      <td>99.933819</td>\n",
       "      <td>0.066181</td>\n",
       "      <td>1510</td>\n",
       "      <td>1</td>\n",
       "    </tr>\n",
       "    <tr>\n",
       "      <th>5</th>\n",
       "      <td>Worms</td>\n",
       "      <td>98.850575</td>\n",
       "      <td>1.149425</td>\n",
       "      <td>172</td>\n",
       "      <td>2</td>\n",
       "    </tr>\n",
       "    <tr>\n",
       "      <th>6</th>\n",
       "      <td>Generic</td>\n",
       "      <td>99.984559</td>\n",
       "      <td>0.015441</td>\n",
       "      <td>213685</td>\n",
       "      <td>33</td>\n",
       "    </tr>\n",
       "    <tr>\n",
       "      <th>7</th>\n",
       "      <td>Exploits</td>\n",
       "      <td>99.819896</td>\n",
       "      <td>0.180104</td>\n",
       "      <td>28266</td>\n",
       "      <td>51</td>\n",
       "    </tr>\n",
       "    <tr>\n",
       "      <th>8</th>\n",
       "      <td>Reconnaissance</td>\n",
       "      <td>99.983128</td>\n",
       "      <td>0.016872</td>\n",
       "      <td>11852</td>\n",
       "      <td>2</td>\n",
       "    </tr>\n",
       "    <tr>\n",
       "      <th>9</th>\n",
       "      <td>DoS</td>\n",
       "      <td>99.508154</td>\n",
       "      <td>0.491846</td>\n",
       "      <td>3844</td>\n",
       "      <td>19</td>\n",
       "    </tr>\n",
       "  </tbody>\n",
       "</table>\n",
       "</div>"
      ],
      "text/plain": [
       "          Traffic  Detected %  No Detected %  Detected Samples  \\\n",
       "0          Normal   97.626417       2.373583           2161361   \n",
       "1        Analysis  100.000000       0.000000               622   \n",
       "2        Backdoor  100.000000       0.000000               357   \n",
       "3         Fuzzers   99.869870       0.130130             21489   \n",
       "4       Shellcode   99.933819       0.066181              1510   \n",
       "5           Worms   98.850575       1.149425               172   \n",
       "6         Generic   99.984559       0.015441            213685   \n",
       "7        Exploits   99.819896       0.180104             28266   \n",
       "8  Reconnaissance   99.983128       0.016872             11852   \n",
       "9             DoS   99.508154       0.491846              3844   \n",
       "\n",
       "   No Detected Samples  \n",
       "0                52549  \n",
       "1                    0  \n",
       "2                    0  \n",
       "3                   28  \n",
       "4                    1  \n",
       "5                    2  \n",
       "6                   33  \n",
       "7                   51  \n",
       "8                    2  \n",
       "9                   19  "
      ]
     },
     "execution_count": 115,
     "metadata": {},
     "output_type": "execute_result"
    }
   ],
   "source": [
    "summary"
   ]
  }
 ],
 "metadata": {
  "interpreter": {
   "hash": "8f888873021ff2b56432b2ed856f78e908258ebea59af0d70cb1358e281cf934"
  },
  "kernelspec": {
   "display_name": "Python 3.9.7 ('tf')",
   "language": "python",
   "name": "python3"
  },
  "language_info": {
   "codemirror_mode": {
    "name": "ipython",
    "version": 3
   },
   "file_extension": ".py",
   "mimetype": "text/x-python",
   "name": "python",
   "nbconvert_exporter": "python",
   "pygments_lexer": "ipython3",
   "version": "3.9.7"
  },
  "orig_nbformat": 4
 },
 "nbformat": 4,
 "nbformat_minor": 2
}
