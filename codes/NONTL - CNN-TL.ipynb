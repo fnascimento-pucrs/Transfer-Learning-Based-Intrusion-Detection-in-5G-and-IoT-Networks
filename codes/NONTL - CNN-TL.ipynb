{
 "cells": [
  {
   "cell_type": "markdown",
   "metadata": {},
   "source": [
    "# CNN-TL | WITHOUT TRANSFER LEARNING\n",
    "## Loading UNSW-NB15 Datasets"
   ]
  },
  {
   "cell_type": "code",
   "execution_count": 1,
   "metadata": {},
   "outputs": [],
   "source": [
    "# Imports\n",
    "import tensorflow as tf\n",
    "import keras\n",
    "import matplotlib.pyplot as plt\n",
    "import numpy as np\n",
    "import pandas as pd\n",
    "import seaborn as sns\n",
    "\n",
    "from tensorflow.keras import datasets, layers, models\n",
    "from tensorflow.keras.callbacks import EarlyStopping\n",
    "from keras.layers import Dense, BatchNormalization\n",
    "from sklearn.preprocessing import StandardScaler\n",
    "from sklearn.model_selection import train_test_split\n",
    "from sklearn.metrics import confusion_matrix, classification_report\n",
    "from keras.models import load_model\n",
    "\n",
    "# Disable warns\n",
    "pd.options.mode.chained_assignment = None  # default='warn'\n",
    "\n",
    "# Set seaborn theme to the plots\n",
    "sns.set()"
   ]
  },
  {
   "cell_type": "markdown",
   "metadata": {},
   "source": [
    "# 1. UNSW-NB15-Train-Basic for training and UNSW-NB15-Test-Basic for validation\n"
   ]
  },
  {
   "cell_type": "code",
   "execution_count": 2,
   "metadata": {},
   "outputs": [],
   "source": [
    "# Load UNSW-NB15-Train-Basic\n",
    "data = pd.read_csv('../datasets/UNSW-NB15-Train-Basic.csv', low_memory=False)\n",
    "\n",
    "# Select the 'proto' and 'state' values that I want\n",
    "data = data.loc[(data['proto'] == 'tcp') | (data['proto'] =='udp') | (data['proto'] =='icmp') | (data['proto'] =='arp') | (data['proto'] =='ipv6-icmp') | (data['proto'] =='igmp') | (data['proto'] =='rarp'), :]\n",
    "data = data.loc[(data['state'] == 'RST') | (data['state'] =='REQ') | (data['state'] =='INT') | (data['state'] =='FIN') | (data['state'] =='CON') | (data['state'] =='ECO') | (data['state'] =='ACC') | (data['state'] =='PAR'), :]\n",
    "\n",
    "# Extracting dataset labels\n",
    "data_labels=data[['label']]\n",
    "\n",
    "# Drop the invalid features and select interested data features\n",
    "data_features=data[['proto','srcip','sport','dstip','dsport','spkts','dpkts','sbytes','dbytes','state','stime','ltime','dur']]\n",
    "\n",
    "\"\"\"PREPROCESSING\"\"\"\n",
    "\n",
    "# Preprocess IP and ports features\n",
    "# IP Source Address\n",
    "data_features['srcip'] = data_features['srcip'].apply(lambda x: x.split(\".\")[-1])\n",
    "data_features['srcip'] = data_features['srcip'].apply(lambda x: x.split(\":\")[-1])\n",
    "data_features['srcip'] = data_features['srcip'].apply(lambda x: int(x, 16))\n",
    "\n",
    "# IP Destination Address\n",
    "data_features['dstip'] = data_features['dstip'].apply(lambda x: x.split(\".\")[-1])\n",
    "data_features['dstip'] = data_features['dstip'].apply(lambda x: x.split(\":\")[-1])\n",
    "data_features['dstip'] = data_features['dstip'].apply(lambda x: int(x, 16))\n",
    "\n",
    "# Ports\n",
    "data_features['sport'] = data_features['sport'].apply(lambda x: x.replace('0x','') if \"0x\" in str(x) else x)\n",
    "data_features['dsport'] = data_features['dsport'].apply(lambda x: x.replace('0x','') if \"0x\" in str(x) else x)\n",
    "\n",
    "# Convert all ports with 0 decimal, and HEX to DEC\n",
    "data_features['sport'] = data_features['sport'].apply(lambda x: str(x)[:-2] if str(x)[-2:] == '.0' else str(x))\n",
    "data_features['sport'] = data_features['sport'].apply(lambda x: -1 if str(x).isalpha()==True else int(x,16))\n",
    "\n",
    "data_features['dsport'] = data_features['dsport'].apply(lambda x: str(x)[:-2] if str(x)[-2:] == '.0' else str(x))\n",
    "data_features['dsport'] = data_features['dsport'].apply(lambda x: -1 if str(x).isalpha()==True else int(x,16))\n",
    "\n",
    "# Convert field to int format\n",
    "data_features['srcip'] = data_features['srcip'].astype(int)\n",
    "data_features['sport'] = data_features['sport'].astype(int)\n",
    "data_features['dstip'] = data_features['dstip'].astype(int)\n",
    "data_features['dsport'] = data_features['dsport'].astype(int)\n",
    "\n",
    "# Convert some fields to logarithmic\n",
    "log1p_col = ['dur', 'sbytes', 'dbytes', 'spkts']\n",
    "\n",
    "for col in log1p_col:\n",
    "    data_features[col] = data_features[col].apply(np.log1p)\n",
    "    \n",
    "# Create a complementary field of attack & Transform to One hot encoding - LABELS\n",
    "normal=data_labels['label']\n",
    "normal=normal.replace(1,2)\n",
    "normal=normal.replace(0,1)\n",
    "normal=normal.replace(2,0)\n",
    "\n",
    "# Insert the new column in data labels\n",
    "data_labels.insert(1, 'normal', normal)\n",
    "data_labels = pd.get_dummies(data_labels)\n",
    "\n",
    "# Transform to One hot encoding - FEATURES\n",
    "data_features=pd.get_dummies(data_features)\n",
    "\n",
    "# Normalize all data features\n",
    "data_features = StandardScaler().fit_transform(data_features)\n",
    "\n",
    "#Add dimension to data features\n",
    "data_features = np.expand_dims(data_features, axis=2)\n",
    "data_features = np.expand_dims(data_features, axis=3)\n",
    "\n",
    "x_train, y_train=data_features, data_labels"
   ]
  },
  {
   "cell_type": "code",
   "execution_count": 3,
   "metadata": {},
   "outputs": [],
   "source": [
    "# Load UNSW-NB15-Test-Basic\n",
    "data = pd.read_csv('../datasets/UNSW-NB15-Test-Basic.csv', low_memory=False)\n",
    "\n",
    "# Select the 'proto' and 'state' values that I want\n",
    "data = data.loc[(data['proto'] == 'tcp') | (data['proto'] =='udp') | (data['proto'] =='icmp') | (data['proto'] =='arp') | (data['proto'] =='ipv6-icmp') | (data['proto'] =='igmp') | (data['proto'] =='rarp'), :]\n",
    "data = data.loc[(data['state'] == 'RST') | (data['state'] =='REQ') | (data['state'] =='INT') | (data['state'] =='FIN') | (data['state'] =='CON') | (data['state'] =='ECO') | (data['state'] =='ACC') | (data['state'] =='PAR'), :]\n",
    "\n",
    "# Extracting dataset labels\n",
    "data_labels=data[['label']]\n",
    "\n",
    "#Extracting dataset features\n",
    "data_features=data[['proto','srcip','sport','dstip','dsport','spkts','dpkts','sbytes','dbytes','state','stime','ltime','dur']]\n",
    "\n",
    "\"\"\"PREPROCESSING\"\"\"\n",
    "\n",
    "# Preprocess IP and ports features\n",
    "# IP Source Address\n",
    "data_features['srcip'] = data_features['srcip'].apply(lambda x: x.split(\".\")[-1])\n",
    "data_features['srcip'] = data_features['srcip'].apply(lambda x: x.split(\":\")[-1])\n",
    "data_features['srcip'] = data_features['srcip'].apply(lambda x: int(x, 16))\n",
    "\n",
    "# IP Destination Address\n",
    "data_features['dstip'] = data_features['dstip'].apply(lambda x: x.split(\".\")[-1])\n",
    "data_features['dstip'] = data_features['dstip'].apply(lambda x: x.split(\":\")[-1])\n",
    "data_features['dstip'] = data_features['dstip'].apply(lambda x: int(x, 16))\n",
    "\n",
    "# Ports\n",
    "data_features['sport'] = data_features['sport'].apply(lambda x: x.replace('0x','') if \"0x\" in str(x) else x)\n",
    "data_features['dsport'] = data_features['dsport'].apply(lambda x: x.replace('0x','') if \"0x\" in str(x) else x)\n",
    "\n",
    "# Convert all ports with 0 decimal, and HEX to DEC\n",
    "data_features['sport'] = data_features['sport'].apply(lambda x: str(x)[:-2] if str(x)[-2:] == '.0' else str(x))\n",
    "data_features['sport'] = data_features['sport'].apply(lambda x: -1 if str(x).isalpha()==True else int(x,16))\n",
    "\n",
    "data_features['dsport'] = data_features['dsport'].apply(lambda x: str(x)[:-2] if str(x)[-2:] == '.0' else str(x))\n",
    "data_features['dsport'] = data_features['dsport'].apply(lambda x: -1 if str(x).isalpha()==True else int(x,16))\n",
    "\n",
    "# Convert field to int format\n",
    "data_features['srcip'] = data_features['srcip'].astype(int)\n",
    "data_features['sport'] = data_features['sport'].astype(int)\n",
    "data_features['dstip'] = data_features['dstip'].astype(int)\n",
    "data_features['dsport'] = data_features['dsport'].astype(int)\n",
    "\n",
    "# Convert some fields to logarithmic\n",
    "log1p_col = ['dur', 'sbytes', 'dbytes', 'spkts']\n",
    "\n",
    "for col in log1p_col:\n",
    "    data_features[col] = data_features[col].apply(np.log1p)\n",
    "    \n",
    "# Create a complementary field of attack & Transform to One hot encoding - LABELS\n",
    "normal=data_labels['label']\n",
    "normal=normal.replace(1,2)\n",
    "normal=normal.replace(0,1)\n",
    "normal=normal.replace(2,0)\n",
    "\n",
    "# Insert the new column in data labels\n",
    "data_labels.insert(1, 'normal', normal)\n",
    "data_labels = pd.get_dummies(data_labels)\n",
    "\n",
    "# Transform to One hot encoding - FEATURES\n",
    "data_features=pd.get_dummies(data_features)\n",
    "\n",
    "# Generate 2 new columns to fit with training\n",
    "auxCol=data_features['sbytes']\n",
    "auxCol=0\n",
    "data_features.insert(13, 'proto_igmp', auxCol, True)\n",
    "data_features.insert(21, 'state_PAR', auxCol, True)\n",
    "\n",
    "# Normalize all data features\n",
    "data_features = StandardScaler().fit_transform(data_features)\n",
    "\n",
    "#Add dimension to data features\n",
    "data_features = np.expand_dims(data_features, axis=2)\n",
    "data_features = np.expand_dims(data_features, axis=3)\n",
    "\n",
    "x_test, y_test=data_features, data_labels"
   ]
  },
  {
   "cell_type": "code",
   "execution_count": 4,
   "metadata": {},
   "outputs": [
    {
     "name": "stdout",
     "output_type": "stream",
     "text": [
      "Model: \"sequential\"\n",
      "_________________________________________________________________\n",
      "Layer (type)                 Output Shape              Param #   \n",
      "=================================================================\n",
      "conv2d (Conv2D)              (None, 24, 1, 32)         352       \n",
      "_________________________________________________________________\n",
      "max_pooling2d (MaxPooling2D) (None, 24, 1, 32)         0         \n",
      "_________________________________________________________________\n",
      "conv2d_1 (Conv2D)            (None, 24, 1, 64)         20544     \n",
      "_________________________________________________________________\n",
      "max_pooling2d_1 (MaxPooling2 (None, 24, 1, 64)         0         \n",
      "_________________________________________________________________\n",
      "flatten (Flatten)            (None, 1536)              0         \n",
      "_________________________________________________________________\n",
      "dense (Dense)                (None, 444)               682428    \n",
      "_________________________________________________________________\n",
      "dense_1 (Dense)              (None, 2)                 890       \n",
      "=================================================================\n",
      "Total params: 704,214\n",
      "Trainable params: 704,214\n",
      "Non-trainable params: 0\n",
      "_________________________________________________________________\n"
     ]
    }
   ],
   "source": [
    "# Model building and definition\n",
    "input_shape = (24,1,1)\n",
    "model = models.Sequential()\n",
    "model.add(layers.Conv2D(filters=32,  input_shape=input_shape, kernel_size=(1,10), activation='relu', padding='same'))\n",
    "model.add(layers.MaxPooling2D(pool_size=(1, 2), padding='same'))\n",
    "model.add(layers.Conv2D(filters=64,  input_shape=input_shape, kernel_size=(1,10), activation='relu', padding='same'))\n",
    "model.add(layers.MaxPooling2D(pool_size=(1, 2), padding='same'))\n",
    "model.add(layers.Flatten())\n",
    "model.add(Dense(444, activation='relu'))\n",
    "model.add(Dense(2, activation='softmax'))\n",
    "\n",
    "# Model summary\n",
    "model.summary()"
   ]
  },
  {
   "cell_type": "code",
   "execution_count": null,
   "metadata": {},
   "outputs": [],
   "source": [
    "# Early Stopping\n",
    "filepath = '../models/tmp/1_Train-Basic_Test-Basic_Detection.hdf5' # define where the model is saved\n",
    "\n",
    "callbacks = [\n",
    "        keras.callbacks.EarlyStopping(\n",
    "            monitor = 'val_loss', # Use accuracy to monitor the model\n",
    "            patience = 10 # Stop after 10 steps with lower accuracy\n",
    "        ),\n",
    "        keras.callbacks.ModelCheckpoint(\n",
    "            filepath = filepath, # file where the checkpoint is saved\n",
    "            monitor = 'val_loss', # Don't overwrite the saved model unless val_loss is worse\n",
    "            save_best_only = True)]# Only save model if it is the best"
   ]
  },
  {
   "cell_type": "code",
   "execution_count": null,
   "metadata": {},
   "outputs": [
    {
     "name": "stdout",
     "output_type": "stream",
     "text": [
      "Epoch 1/15\n",
      "201/201 [==============================] - 41s 203ms/step - loss: 0.1089 - accuracy: 0.9697 - val_loss: 0.0338 - val_accuracy: 0.9918\n",
      "Epoch 2/15\n",
      "201/201 [==============================] - 39s 194ms/step - loss: 0.0310 - accuracy: 0.9920 - val_loss: 0.0286 - val_accuracy: 0.9923\n",
      "Epoch 3/15\n",
      "201/201 [==============================] - 39s 194ms/step - loss: 0.0283 - accuracy: 0.9922 - val_loss: 0.0276 - val_accuracy: 0.9924\n",
      "Epoch 4/15\n",
      "201/201 [==============================] - 39s 192ms/step - loss: 0.0272 - accuracy: 0.9923 - val_loss: 0.0271 - val_accuracy: 0.9924\n",
      "Epoch 5/15\n",
      "201/201 [==============================] - 39s 195ms/step - loss: 0.0267 - accuracy: 0.9923 - val_loss: 0.0264 - val_accuracy: 0.9924\n",
      "Epoch 6/15\n",
      "201/201 [==============================] - 38s 192ms/step - loss: 0.0266 - accuracy: 0.9923 - val_loss: 0.0289 - val_accuracy: 0.9924\n",
      "Epoch 7/15\n",
      "201/201 [==============================] - 44s 218ms/step - loss: 0.0262 - accuracy: 0.9923 - val_loss: 0.0265 - val_accuracy: 0.9925\n",
      "Epoch 8/15\n",
      "201/201 [==============================] - 45s 223ms/step - loss: 0.0256 - accuracy: 0.9923 - val_loss: 0.0261 - val_accuracy: 0.9926\n",
      "Epoch 9/15\n",
      "201/201 [==============================] - 43s 216ms/step - loss: 0.0252 - accuracy: 0.9923 - val_loss: 0.0261 - val_accuracy: 0.9925\n",
      "Epoch 10/15\n",
      "201/201 [==============================] - 41s 206ms/step - loss: 0.0251 - accuracy: 0.9923 - val_loss: 0.0252 - val_accuracy: 0.9926\n",
      "Epoch 11/15\n",
      "201/201 [==============================] - 44s 217ms/step - loss: 0.0246 - accuracy: 0.9924 - val_loss: 0.0254 - val_accuracy: 0.9924\n",
      "Epoch 12/15\n",
      "201/201 [==============================] - 44s 219ms/step - loss: 0.0242 - accuracy: 0.9923 - val_loss: 0.0256 - val_accuracy: 0.9924\n",
      "Epoch 13/15\n",
      "201/201 [==============================] - 45s 222ms/step - loss: 0.0241 - accuracy: 0.9923 - val_loss: 0.0244 - val_accuracy: 0.9926\n",
      "Epoch 14/15\n",
      "201/201 [==============================] - 44s 222ms/step - loss: 0.0238 - accuracy: 0.9924 - val_loss: 0.0251 - val_accuracy: 0.9925\n",
      "Epoch 15/15\n",
      "201/201 [==============================] - 44s 219ms/step - loss: 0.0234 - accuracy: 0.9924 - val_loss: 0.0255 - val_accuracy: 0.9924\n"
     ]
    }
   ],
   "source": [
    "#Configure model training\n",
    "model.compile(optimizer=tf.keras.optimizers.Adam(learning_rate=5e-4), loss='categorical_crossentropy', metrics=['accuracy'])\n",
    "history = model.fit(x_train, y_train, validation_data=(x_test, y_test), epochs=15, batch_size=2048, callbacks=callbacks)\n",
    "history1=history"
   ]
  },
  {
   "cell_type": "code",
   "execution_count": null,
   "metadata": {},
   "outputs": [
    {
     "name": "stdout",
     "output_type": "stream",
     "text": [
      "dict_keys(['loss', 'accuracy', 'val_loss', 'val_accuracy'])\n"
     ]
    },
    {
     "data": {
      "image/png": "[encoded data removed]",
      "text/plain": [
       "<Figure size 432x288 with 1 Axes>"
      ]
     },
     "metadata": {},
     "output_type": "display_data"
    }
   ],
   "source": [
    "# summarize history for accuracy\n",
    "train_loss = history.history['loss']\n",
    "test_loss = history.history['val_loss']\n",
    "x = list(range(1, len(test_loss) + 1))\n",
    "plt.plot(x, test_loss, color = 'orange', label = 'Test loss')\n",
    "plt.plot(x, train_loss, label = 'Training losss')\n",
    "plt.legend()\n",
    "plt.grid(visible=True)\n",
    "plt.xlabel('Epoch')\n",
    "plt.ylabel('Loss')\n",
    "plt.title('Loss vs. Epoch', weight='bold', fontsize=18)\n",
    "plt.show()"
   ]
  },
  {
   "cell_type": "code",
   "execution_count": null,
   "metadata": {},
   "outputs": [
    {
     "data": {
      "image/png": "[encoded data removed]",
      "text/plain": [
       "<Figure size 432x288 with 1 Axes>"
      ]
     },
     "metadata": {},
     "output_type": "display_data"
    }
   ],
   "source": [
    "# summarize history for loss\n",
    "train_acc = history.history['accuracy']\n",
    "test_acc = history.history['val_accuracy']\n",
    "x = list(range(1, len(test_acc) + 1))\n",
    "plt.plot(x, test_acc, color = 'orange', label = 'Test accuracy')\n",
    "plt.plot(x, train_acc, label = 'Training accuracy')\n",
    "plt.legend()\n",
    "plt.grid(visible=True)\n",
    "plt.xlabel('Epoch')\n",
    "plt.ylabel('Accuracy')\n",
    "plt.title('Accuracy vs. Epoch', weight='bold', fontsize=18)\n",
    "plt.show()"
   ]
  },
  {
   "cell_type": "code",
   "execution_count": null,
   "metadata": {},
   "outputs": [
    {
     "data": {
      "image/png": "[encoded data removed]",
      "text/plain": [
       "<Figure size 432x288 with 1 Axes>"
      ]
     },
     "metadata": {},
     "output_type": "display_data"
    }
   ],
   "source": [
    "# Prediction\n",
    "predicted = model.predict(x_test)\n",
    "\n",
    "# Confusion matrix\n",
    "y_class = np.argmax(predicted, axis = 1) \n",
    "y_test=y_test.to_numpy()\n",
    "y_check = np.argmax(y_test, axis = 1) \n",
    "\n",
    "cmatrix = confusion_matrix(y_check, y_class)\n",
    "\n",
    "cmatrix_df = pd.DataFrame(cmatrix, index = ['Attack', 'Normal'], columns = ['Attack', 'Normal'])\n",
    "plt.title('Confusion matrix of the test/predicted attacks ', weight='bold', fontsize=18)\n",
    "plt.tick_params(length=0)\n",
    "plt.xlabel('Attacks')\n",
    "plt.ylabel('Predicted Attacks')\n",
    "sns.heatmap(cmatrix_df, annot=True, fmt=\"d\", cbar=False)\n",
    "plt.show()"
   ]
  },
  {
   "cell_type": "code",
   "execution_count": null,
   "metadata": {},
   "outputs": [
    {
     "data": {
      "image/png": "[encoded data removed]",
      "text/plain": [
       "<Figure size 432x288 with 1 Axes>"
      ]
     },
     "metadata": {},
     "output_type": "display_data"
    }
   ],
   "source": [
    "# Precision, Recall & F1-Score\n",
    "class_rep = classification_report(y_check, y_class, target_names = ['Attack', 'Normal'], output_dict=True)\n",
    "plt.tick_params(axis='both', which='major', labelsize=10, labelbottom = False, bottom=False, top = False, labeltop=True)\n",
    "plt.tick_params(length=0)\n",
    "sns.heatmap(pd.DataFrame(class_rep).iloc[:-1, :-3].T, square=True, cbar=False, annot=True)\n",
    "plt.show()"
   ]
  },
  {
   "cell_type": "code",
   "execution_count": null,
   "metadata": {},
   "outputs": [
    {
     "data": {
      "text/plain": [
       "{'Attack': {'precision': 0.9867940734378355,\n",
       "  'recall': 0.9972254944509888,\n",
       "  'f1-score': 0.9919823611946282,\n",
       "  'support': 64516},\n",
       " 'Normal': {'precision': 0.9975041133327756,\n",
       "  'recall': 0.9881077348066298,\n",
       "  'f1-score': 0.9927836911419808,\n",
       "  'support': 72400},\n",
       " 'accuracy': 0.9924041017850361,\n",
       " 'macro avg': {'precision': 0.9921490933853055,\n",
       "  'recall': 0.9926666146288093,\n",
       "  'f1-score': 0.9923830261683045,\n",
       "  'support': 136916},\n",
       " 'weighted avg': {'precision': 0.9924574501680472,\n",
       "  'recall': 0.9924041017850361,\n",
       "  'f1-score': 0.9924060975599057,\n",
       "  'support': 136916}}"
      ]
     },
     "metadata": {},
     "output_type": "display_data"
    }
   ],
   "source": [
    "# Showing more detailed view of Precision, Recall & F1-Score\n",
    "class_rep"
   ]
  },
  {
   "cell_type": "markdown",
   "metadata": {},
   "source": [
    "## Analysing Attack Detection"
   ]
  },
  {
   "cell_type": "markdown",
   "metadata": {},
   "source": [
    "### Code"
   ]
  },
  {
   "cell_type": "code",
   "execution_count": null,
   "metadata": {},
   "outputs": [
    {
     "data": {
      "text/plain": [
       "array([[9.9311358e-01, 6.8863560e-03],\n",
       "       [9.9870086e-01, 1.2991070e-03],\n",
       "       [9.9376041e-01, 6.2395972e-03],\n",
       "       ...,\n",
       "       [6.9779481e-11, 1.0000000e+00],\n",
       "       [9.9869943e-01, 1.3005505e-03],\n",
       "       [6.7757675e-08, 9.9999988e-01]], dtype=float32)"
      ]
     },
     "metadata": {},
     "output_type": "display_data"
    }
   ],
   "source": [
    "predicted"
   ]
  },
  {
   "cell_type": "code",
   "execution_count": null,
   "metadata": {},
   "outputs": [],
   "source": [
    "df = pd.DataFrame(predicted)\n",
    "df.index = data.index"
   ]
  },
  {
   "cell_type": "code",
   "execution_count": null,
   "metadata": {},
   "outputs": [],
   "source": [
    "df['attack']=data['label']\n",
    "df['category']=data['attack_cat']\n",
    "df['normal']=data_labels['normal']"
   ]
  },
  {
   "cell_type": "code",
   "execution_count": null,
   "metadata": {},
   "outputs": [],
   "source": [
    "df.columns = ['pred_attack', 'pred_normal', 'attack', 'category', 'normal']"
   ]
  },
  {
   "cell_type": "code",
   "execution_count": null,
   "metadata": {},
   "outputs": [],
   "source": [
    "dff=df\n",
    "df=pd.get_dummies(df)\n",
    "df=round(df)"
   ]
  },
  {
   "cell_type": "code",
   "execution_count": null,
   "metadata": {},
   "outputs": [
    {
     "data": {
      "text/plain": [
       "normal            72400\n",
       "generic           53677\n",
       "exploits           6948\n",
       "reconnaissance     2942\n",
       "dos                 949\n",
       "Name: attack_cat, dtype: int64"
      ]
     },
     "metadata": {},
     "output_type": "display_data"
    }
   ],
   "source": [
    "data['attack_cat'].value_counts()"
   ]
  },
  {
   "cell_type": "code",
   "execution_count": null,
   "metadata": {},
   "outputs": [],
   "source": [
    "normal=df.loc[df['category_normal'] == 1]\n",
    "normal=normal[['pred_attack', 'pred_normal', 'attack', 'normal']]\n",
    "normal_pred=normal[['pred_attack','pred_normal']]\n",
    "normal_check=normal[['attack','normal']]\n",
    "\n",
    "generic=df.loc[df['category_generic'] == 1]\n",
    "generic=generic[['pred_attack', 'pred_normal', 'attack', 'normal']]\n",
    "generic_pred=generic[['pred_attack','pred_normal']]\n",
    "generic_check=generic[['attack','normal']]\n",
    "\n",
    "exploits=df.loc[df['category_exploits'] == 1]\n",
    "exploits=exploits[['pred_attack', 'pred_normal', 'attack', 'normal']]\n",
    "exploits_pred=exploits[['pred_attack','pred_normal']]\n",
    "exploits_check=exploits[['attack','normal']]\n",
    "\n",
    "reconnaissance=df.loc[df['category_reconnaissance'] == 1]\n",
    "reconnaissance=reconnaissance[['pred_attack', 'pred_normal', 'attack', 'normal']]\n",
    "reconnaissance_pred=reconnaissance[['pred_attack','pred_normal']]\n",
    "reconnaissance_check=reconnaissance[['attack','normal']]\n",
    "\n",
    "dos=df.loc[df['category_dos'] == 1]\n",
    "dos=dos[['pred_attack', 'pred_normal', 'attack', 'normal']]\n",
    "dos_pred=dos[['pred_attack','pred_normal']]\n",
    "dos_check=dos[['attack','normal']]"
   ]
  },
  {
   "cell_type": "code",
   "execution_count": null,
   "metadata": {},
   "outputs": [],
   "source": [
    "#Correctly detected\n",
    "countdata=pd.DataFrame()\n",
    "normal_c = normal['pred_normal'] * normal['normal']\n",
    "generic_c = generic['pred_attack'] * generic['attack']\n",
    "exploits_c = exploits['pred_attack'] * exploits['attack']\n",
    "reconnaissance_c = reconnaissance['pred_attack'] * reconnaissance['attack']\n",
    "dos_c = dos['pred_attack'] * dos['attack']"
   ]
  },
  {
   "cell_type": "code",
   "execution_count": null,
   "metadata": {},
   "outputs": [],
   "source": [
    "# Count 0 and 1\n",
    "normal_c0 = (normal_c == 0).sum()\n",
    "normal_c1 = len(normal) - normal_c0\n",
    "\n",
    "generic_c0 = (generic_c == 0).sum()\n",
    "generic_c1 = len(generic) - generic_c0\n",
    "\n",
    "exploits_c0 = (exploits_c == 0).sum()\n",
    "exploits_c1 = len(exploits) - exploits_c0\n",
    "\n",
    "reconnaissance_c0 = (reconnaissance_c == 0).sum()\n",
    "reconnaissance_c1 = len(reconnaissance) - reconnaissance_c0\n",
    "\n",
    "dos_c0 = (dos_c == 0).sum()\n",
    "dos_c1 = len(dos) - dos_c0"
   ]
  },
  {
   "cell_type": "code",
   "execution_count": null,
   "metadata": {},
   "outputs": [
    {
     "name": "stdout",
     "output_type": "stream",
     "text": [
      "There are 1.19 % of NO detected and 98.81 % of detected samples\n"
     ]
    }
   ],
   "source": [
    "normal_0, normal_1 = normal_c0*100 / len(normal), normal_c1*100 / len(normal)\n",
    "print(\"There are {:.2f} % of NO detected and {:.2f} % of detected samples\".format(normal_0, normal_1))"
   ]
  },
  {
   "cell_type": "code",
   "execution_count": null,
   "metadata": {},
   "outputs": [
    {
     "name": "stdout",
     "output_type": "stream",
     "text": [
      "There are 0.07 % of NO detected and 99.93 % of detected samples\n"
     ]
    }
   ],
   "source": [
    "generic_0, generic_1 = generic_c0*100 / len(generic), generic_c1*100 / len(generic)\n",
    "print(\"There are {:.2f} % of NO detected and {:.2f} % of detected samples\".format(generic_0, generic_1))"
   ]
  },
  {
   "cell_type": "code",
   "execution_count": null,
   "metadata": {},
   "outputs": [
    {
     "name": "stdout",
     "output_type": "stream",
     "text": [
      "There are 1.47 % of NO detected and 98.53 % of detected samples\n"
     ]
    }
   ],
   "source": [
    "exploits_0, exploits_1 = exploits_c0*100 / len(exploits), exploits_c1*100 / len(exploits)\n",
    "print(\"There are {:.2f} % of NO detected and {:.2f} % of detected samples\".format(exploits_0, exploits_1))"
   ]
  },
  {
   "cell_type": "code",
   "execution_count": null,
   "metadata": {},
   "outputs": [
    {
     "name": "stdout",
     "output_type": "stream",
     "text": [
      "There are 0.37 % of NO detected and 99.63 % of detected samples\n"
     ]
    }
   ],
   "source": [
    "reconnaissance_0, reconnaissance_1 = reconnaissance_c0*100 / len(reconnaissance), reconnaissance_c1*100 / len(reconnaissance)\n",
    "print(\"There are {:.2f} % of NO detected and {:.2f} % of detected samples\".format(reconnaissance_0, reconnaissance_1))"
   ]
  },
  {
   "cell_type": "code",
   "execution_count": null,
   "metadata": {},
   "outputs": [
    {
     "name": "stdout",
     "output_type": "stream",
     "text": [
      "There are 2.74 % of NO detected and 97.26 % of detected samples\n"
     ]
    }
   ],
   "source": [
    "dos_0, dos_1 = dos_c0*100 / len(dos), dos_c1*100 / len(dos)\n",
    "print(\"There are {:.2f} % of NO detected and {:.2f} % of detected samples\".format(dos_0, dos_1))"
   ]
  },
  {
   "cell_type": "code",
   "execution_count": null,
   "metadata": {},
   "outputs": [],
   "source": [
    "summary = pd.DataFrame({\"Traffic\":\n",
    "                   [\"Normal\", \"Generic\", \"Exploits\", \"Reconnaissance\", \"DoS\"],\n",
    "                   \"Detected %\": [normal_1, generic_1, exploits_1, reconnaissance_1, dos_1],\n",
    "                   \"No Detected %\": [normal_0, generic_0, exploits_0, reconnaissance_0, dos_0],\n",
    "                   \"Detected Samples\": [normal_c1, generic_c1, exploits_c1, reconnaissance_c1, dos_c1],\n",
    "                   \"No Detected Samples\": [normal_c0, generic_c0, exploits_c0, reconnaissance_c0, dos_c0]})"
   ]
  },
  {
   "cell_type": "code",
   "execution_count": null,
   "metadata": {},
   "outputs": [],
   "source": [
    "dff['category_pred'] = np.where(((df['attack'] == 1) & (df['pred_attack'] == 1)) | ((df['normal'] == 1) & (df['pred_normal'] == 1)), 'Detected', 'No Detected')"
   ]
  },
  {
   "cell_type": "code",
   "execution_count": null,
   "metadata": {},
   "outputs": [],
   "source": [
    "data_plot=dff[['category', 'category_pred']]"
   ]
  },
  {
   "cell_type": "code",
   "execution_count": null,
   "metadata": {},
   "outputs": [
    {
     "data": {
      "text/html": [
       "<div>\n",
       "<style scoped>\n",
       "    .dataframe tbody tr th:only-of-type {\n",
       "        vertical-align: middle;\n",
       "    }\n",
       "\n",
       "    .dataframe tbody tr th {\n",
       "        vertical-align: top;\n",
       "    }\n",
       "\n",
       "    .dataframe thead th {\n",
       "        text-align: right;\n",
       "    }\n",
       "</style>\n",
       "<table border=\"1\" class=\"dataframe\">\n",
       "  <thead>\n",
       "    <tr style=\"text-align: right;\">\n",
       "      <th></th>\n",
       "      <th>category</th>\n",
       "      <th>category_pred</th>\n",
       "    </tr>\n",
       "  </thead>\n",
       "  <tbody>\n",
       "    <tr>\n",
       "      <th>0</th>\n",
       "      <td>generic</td>\n",
       "      <td>Detected</td>\n",
       "    </tr>\n",
       "    <tr>\n",
       "      <th>1</th>\n",
       "      <td>generic</td>\n",
       "      <td>Detected</td>\n",
       "    </tr>\n",
       "    <tr>\n",
       "      <th>2</th>\n",
       "      <td>generic</td>\n",
       "      <td>Detected</td>\n",
       "    </tr>\n",
       "    <tr>\n",
       "      <th>4</th>\n",
       "      <td>normal</td>\n",
       "      <td>Detected</td>\n",
       "    </tr>\n",
       "    <tr>\n",
       "      <th>5</th>\n",
       "      <td>normal</td>\n",
       "      <td>Detected</td>\n",
       "    </tr>\n",
       "    <tr>\n",
       "      <th>...</th>\n",
       "      <td>...</td>\n",
       "      <td>...</td>\n",
       "    </tr>\n",
       "    <tr>\n",
       "      <th>145168</th>\n",
       "      <td>normal</td>\n",
       "      <td>Detected</td>\n",
       "    </tr>\n",
       "    <tr>\n",
       "      <th>145169</th>\n",
       "      <td>generic</td>\n",
       "      <td>Detected</td>\n",
       "    </tr>\n",
       "    <tr>\n",
       "      <th>145170</th>\n",
       "      <td>normal</td>\n",
       "      <td>Detected</td>\n",
       "    </tr>\n",
       "    <tr>\n",
       "      <th>145171</th>\n",
       "      <td>generic</td>\n",
       "      <td>Detected</td>\n",
       "    </tr>\n",
       "    <tr>\n",
       "      <th>145172</th>\n",
       "      <td>normal</td>\n",
       "      <td>Detected</td>\n",
       "    </tr>\n",
       "  </tbody>\n",
       "</table>\n",
       "<p>136916 rows × 2 columns</p>\n",
       "</div>"
      ],
      "text/plain": [
       "       category category_pred\n",
       "0       generic      Detected\n",
       "1       generic      Detected\n",
       "2       generic      Detected\n",
       "4        normal      Detected\n",
       "5        normal      Detected\n",
       "...         ...           ...\n",
       "145168   normal      Detected\n",
       "145169  generic      Detected\n",
       "145170   normal      Detected\n",
       "145171  generic      Detected\n",
       "145172   normal      Detected\n",
       "\n",
       "[136916 rows x 2 columns]"
      ]
     },
     "metadata": {},
     "output_type": "display_data"
    }
   ],
   "source": [
    "data_plot"
   ]
  },
  {
   "cell_type": "markdown",
   "metadata": {},
   "source": [
    "### Results"
   ]
  },
  {
   "cell_type": "code",
   "execution_count": null,
   "metadata": {},
   "outputs": [
    {
     "data": {
      "image/png": "[encoded data removed]",
      "text/plain": [
       "<Figure size 1080x360 with 1 Axes>"
      ]
     },
     "metadata": {},
     "output_type": "display_data"
    }
   ],
   "source": [
    "# Plotting target label distribution\n",
    "plt.figure(figsize=(15,5))\n",
    "sns.set_theme(style=\"darkgrid\")\n",
    "sns.countplot(x=data_plot['category'], data=data_plot, hue=data_plot['category_pred'])\n",
    "plt.title('The detection of the attacks in Test+ dataset', weight='bold', fontsize='18')\n",
    "plt.xticks(weight='bold', fontsize=12)\n",
    "plt.show()"
   ]
  },
  {
   "cell_type": "code",
   "execution_count": null,
   "metadata": {},
   "outputs": [
    {
     "data": {
      "text/html": [
       "<div>\n",
       "<style scoped>\n",
       "    .dataframe tbody tr th:only-of-type {\n",
       "        vertical-align: middle;\n",
       "    }\n",
       "\n",
       "    .dataframe tbody tr th {\n",
       "        vertical-align: top;\n",
       "    }\n",
       "\n",
       "    .dataframe thead th {\n",
       "        text-align: right;\n",
       "    }\n",
       "</style>\n",
       "<table border=\"1\" class=\"dataframe\">\n",
       "  <thead>\n",
       "    <tr style=\"text-align: right;\">\n",
       "      <th></th>\n",
       "      <th>Traffic</th>\n",
       "      <th>Detected %</th>\n",
       "      <th>No Detected %</th>\n",
       "      <th>Detected Samples</th>\n",
       "      <th>No Detected Samples</th>\n",
       "    </tr>\n",
       "  </thead>\n",
       "  <tbody>\n",
       "    <tr>\n",
       "      <th>0</th>\n",
       "      <td>Normal</td>\n",
       "      <td>98.810773</td>\n",
       "      <td>1.189227</td>\n",
       "      <td>71539</td>\n",
       "      <td>861</td>\n",
       "    </tr>\n",
       "    <tr>\n",
       "      <th>1</th>\n",
       "      <td>Generic</td>\n",
       "      <td>99.925480</td>\n",
       "      <td>0.074520</td>\n",
       "      <td>53637</td>\n",
       "      <td>40</td>\n",
       "    </tr>\n",
       "    <tr>\n",
       "      <th>2</th>\n",
       "      <td>Exploits</td>\n",
       "      <td>98.531952</td>\n",
       "      <td>1.468048</td>\n",
       "      <td>6846</td>\n",
       "      <td>102</td>\n",
       "    </tr>\n",
       "    <tr>\n",
       "      <th>3</th>\n",
       "      <td>Reconnaissance</td>\n",
       "      <td>99.626105</td>\n",
       "      <td>0.373895</td>\n",
       "      <td>2931</td>\n",
       "      <td>11</td>\n",
       "    </tr>\n",
       "    <tr>\n",
       "      <th>4</th>\n",
       "      <td>DoS</td>\n",
       "      <td>97.260274</td>\n",
       "      <td>2.739726</td>\n",
       "      <td>923</td>\n",
       "      <td>26</td>\n",
       "    </tr>\n",
       "  </tbody>\n",
       "</table>\n",
       "</div>"
      ],
      "text/plain": [
       "          Traffic  Detected %  No Detected %  Detected Samples  \\\n",
       "0          Normal   98.810773       1.189227             71539   \n",
       "1         Generic   99.925480       0.074520             53637   \n",
       "2        Exploits   98.531952       1.468048              6846   \n",
       "3  Reconnaissance   99.626105       0.373895              2931   \n",
       "4             DoS   97.260274       2.739726               923   \n",
       "\n",
       "   No Detected Samples  \n",
       "0                  861  \n",
       "1                   40  \n",
       "2                  102  \n",
       "3                   11  \n",
       "4                   26  "
      ]
     },
     "metadata": {},
     "output_type": "display_data"
    }
   ],
   "source": [
    "summary"
   ]
  },
  {
   "cell_type": "markdown",
   "metadata": {},
   "source": [
    "# 2. UNSW-NB15-Train-Basic for training and UNSW-NB15-Test+ for validation"
   ]
  },
  {
   "cell_type": "code",
   "execution_count": null,
   "metadata": {},
   "outputs": [],
   "source": [
    "# Load UNSW-NB15-Train-Basic\n",
    "data = pd.read_csv('../datasets/UNSW-NB15-Train-Basic.csv', low_memory=False)\n",
    "\n",
    "# Select the 'proto' and 'state' values that I want\n",
    "data = data.loc[(data['proto'] == 'tcp') | (data['proto'] =='udp') | (data['proto'] =='icmp') | (data['proto'] =='arp') | (data['proto'] =='ipv6-icmp') | (data['proto'] =='igmp') | (data['proto'] =='rarp'), :]\n",
    "data = data.loc[(data['state'] == 'RST') | (data['state'] =='REQ') | (data['state'] =='INT') | (data['state'] =='FIN') | (data['state'] =='CON') | (data['state'] =='ECO') | (data['state'] =='ACC') | (data['state'] =='PAR'), :]\n",
    "\n",
    "# Extracting dataset labels\n",
    "data_labels=data[['label']]\n",
    "\n",
    "# Drop the invalid features and select interested data features\n",
    "data_features=data[['proto','srcip','sport','dstip','dsport','spkts','dpkts','sbytes','dbytes','state','stime','ltime','dur']]\n",
    "\n",
    "\"\"\"PREPROCESSING\"\"\"\n",
    "\n",
    "# Preprocess IP and ports features\n",
    "# IP Source Address\n",
    "data_features['srcip'] = data_features['srcip'].apply(lambda x: x.split(\".\")[-1])\n",
    "data_features['srcip'] = data_features['srcip'].apply(lambda x: x.split(\":\")[-1])\n",
    "data_features['srcip'] = data_features['srcip'].apply(lambda x: int(x, 16))\n",
    "\n",
    "# IP Destination Address\n",
    "data_features['dstip'] = data_features['dstip'].apply(lambda x: x.split(\".\")[-1])\n",
    "data_features['dstip'] = data_features['dstip'].apply(lambda x: x.split(\":\")[-1])\n",
    "data_features['dstip'] = data_features['dstip'].apply(lambda x: int(x, 16))\n",
    "\n",
    "# Ports\n",
    "data_features['sport'] = data_features['sport'].apply(lambda x: x.replace('0x','') if \"0x\" in str(x) else x)\n",
    "data_features['dsport'] = data_features['dsport'].apply(lambda x: x.replace('0x','') if \"0x\" in str(x) else x)\n",
    "\n",
    "# Convert all ports with 0 decimal, and HEX to DEC\n",
    "data_features['sport'] = data_features['sport'].apply(lambda x: str(x)[:-2] if str(x)[-2:] == '.0' else str(x))\n",
    "data_features['sport'] = data_features['sport'].apply(lambda x: -1 if str(x).isalpha()==True else int(x,16))\n",
    "\n",
    "data_features['dsport'] = data_features['dsport'].apply(lambda x: str(x)[:-2] if str(x)[-2:] == '.0' else str(x))\n",
    "data_features['dsport'] = data_features['dsport'].apply(lambda x: -1 if str(x).isalpha()==True else int(x,16))\n",
    "\n",
    "# Convert field to int format\n",
    "data_features['srcip'] = data_features['srcip'].astype(int)\n",
    "data_features['sport'] = data_features['sport'].astype(int)\n",
    "data_features['dstip'] = data_features['dstip'].astype(int)\n",
    "data_features['dsport'] = data_features['dsport'].astype(int)\n",
    "\n",
    "# Convert some fields to logarithmic\n",
    "log1p_col = ['dur', 'sbytes', 'dbytes', 'spkts']\n",
    "\n",
    "for col in log1p_col:\n",
    "    data_features[col] = data_features[col].apply(np.log1p)\n",
    "    \n",
    "# Create a complementary field of attack & Transform to One hot encoding - LABELS\n",
    "normal=data_labels['label']\n",
    "normal=normal.replace(1,2)\n",
    "normal=normal.replace(0,1)\n",
    "normal=normal.replace(2,0)\n",
    "\n",
    "# Insert the new column in data labels\n",
    "data_labels.insert(1, 'normal', normal)\n",
    "data_labels = pd.get_dummies(data_labels)\n",
    "\n",
    "# Transform to One hot encoding - FEATURES\n",
    "data_features=pd.get_dummies(data_features)\n",
    "\n",
    "# Normalize all data features\n",
    "data_features = StandardScaler().fit_transform(data_features)\n",
    "\n",
    "#Add dimension to data features\n",
    "data_features = np.expand_dims(data_features, axis=2)\n",
    "data_features = np.expand_dims(data_features, axis=3)\n",
    "\n",
    "x_train, y_train=data_features, data_labels"
   ]
  },
  {
   "cell_type": "code",
   "execution_count": null,
   "metadata": {},
   "outputs": [],
   "source": [
    "# Load UNSW-NB15-Test+\n",
    "data = pd.read_csv('../datasets/UNSW-NB15-Test+.csv', low_memory=False)\n",
    "\n",
    "# Select the 'proto' and 'state' values that I want\n",
    "data = data.loc[(data['proto'] == 'tcp') | (data['proto'] =='udp') | (data['proto'] =='icmp') | (data['proto'] =='arp') | (data['proto'] =='ipv6-icmp') | (data['proto'] =='igmp') | (data['proto'] =='rarp'), :]\n",
    "data = data.loc[(data['state'] == 'RST') | (data['state'] =='REQ') | (data['state'] =='INT') | (data['state'] =='FIN') | (data['state'] =='CON') | (data['state'] =='ECO') | (data['state'] =='ACC') | (data['state'] =='PAR'), :]\n",
    "\n",
    "# Extracting dataset labels\n",
    "data_labels=data[['label']]\n",
    "\n",
    "#Extracting dataset features\n",
    "data_features=data[['proto','srcip','sport','dstip','dsport','spkts','dpkts','sbytes','dbytes','state','stime','ltime','dur']]\n",
    "\"\"\"PREPROCESSING\"\"\"\n",
    "\n",
    "# Preprocess IP and ports features\n",
    "# IP Source Address\n",
    "data_features['srcip'] = data_features['srcip'].apply(lambda x: x.split(\".\")[-1])\n",
    "data_features['srcip'] = data_features['srcip'].apply(lambda x: x.split(\":\")[-1])\n",
    "data_features['srcip'] = data_features['srcip'].apply(lambda x: int(x, 16))\n",
    "\n",
    "# IP Destination Address\n",
    "data_features['dstip'] = data_features['dstip'].apply(lambda x: x.split(\".\")[-1])\n",
    "data_features['dstip'] = data_features['dstip'].apply(lambda x: x.split(\":\")[-1])\n",
    "data_features['dstip'] = data_features['dstip'].apply(lambda x: int(x, 16))\n",
    "\n",
    "# Ports\n",
    "data_features['sport'] = data_features['sport'].apply(lambda x: x.replace('0x','') if \"0x\" in str(x) else x)\n",
    "data_features['dsport'] = data_features['dsport'].apply(lambda x: x.replace('0x','') if \"0x\" in str(x) else x)\n",
    "\n",
    "# Convert all ports with 0 decimal, and HEX to DEC\n",
    "data_features['sport'] = data_features['sport'].apply(lambda x: str(x)[:-2] if str(x)[-2:] == '.0' else str(x))\n",
    "data_features['sport'] = data_features['sport'].apply(lambda x: -1 if str(x).isalpha()==True else int(x,16))\n",
    "\n",
    "data_features['dsport'] = data_features['dsport'].apply(lambda x: str(x)[:-2] if str(x)[-2:] == '.0' else str(x))\n",
    "data_features['dsport'] = data_features['dsport'].apply(lambda x: -1 if str(x).isalpha()==True else int(x,16))\n",
    "\n",
    "# Convert field to int format\n",
    "data_features['srcip'] = data_features['srcip'].astype(int)\n",
    "data_features['sport'] = data_features['sport'].astype(int)\n",
    "data_features['dstip'] = data_features['dstip'].astype(int)\n",
    "data_features['dsport'] = data_features['dsport'].astype(int)\n",
    "\n",
    "# Convert some fields to logarithmic\n",
    "log1p_col = ['dur', 'sbytes', 'dbytes', 'spkts']\n",
    "\n",
    "for col in log1p_col:\n",
    "    data_features[col] = data_features[col].apply(np.log1p)\n",
    "    \n",
    "# Create a complementary field of attack & Transform to One hot encoding - LABELS\n",
    "normal=data_labels['label']\n",
    "normal=normal.replace(1,2)\n",
    "normal=normal.replace(0,1)\n",
    "normal=normal.replace(2,0)\n",
    "\n",
    "# Insert the new column in data labels\n",
    "data_labels.insert(1, 'normal', normal)\n",
    "data_labels = pd.get_dummies(data_labels)\n",
    "\n",
    "# Transform to One hot encoding - FEATURES\n",
    "data_features=pd.get_dummies(data_features)\n",
    "\n",
    "# Generate 4 new columns to fit with training\n",
    "auxCol=data_features['sbytes']\n",
    "auxCol=0\n",
    "data_features.insert(13, 'proto_igmp', auxCol, True)\n",
    "data_features.insert(21, 'state_PAR', auxCol, True)\n",
    "\n",
    "# Normalize all data features\n",
    "data_features = StandardScaler().fit_transform(data_features)\n",
    "\n",
    "#Add dimension to data features\n",
    "data_features = np.expand_dims(data_features, axis=2)\n",
    "data_features = np.expand_dims(data_features, axis=3)\n",
    "\n",
    "x_test, y_test=data_features, data_labels"
   ]
  },
  {
   "cell_type": "code",
   "execution_count": null,
   "metadata": {},
   "outputs": [
    {
     "name": "stdout",
     "output_type": "stream",
     "text": [
      "Model: \"sequential\"\n",
      "_________________________________________________________________\n",
      "Layer (type)                 Output Shape              Param #   \n",
      "=================================================================\n",
      "conv2d (Conv2D)              (None, 24, 1, 32)         352       \n",
      "_________________________________________________________________\n",
      "max_pooling2d (MaxPooling2D) (None, 24, 1, 32)         0         \n",
      "_________________________________________________________________\n",
      "conv2d_1 (Conv2D)            (None, 24, 1, 64)         20544     \n",
      "_________________________________________________________________\n",
      "max_pooling2d_1 (MaxPooling2 (None, 24, 1, 64)         0         \n",
      "_________________________________________________________________\n",
      "flatten (Flatten)            (None, 1536)              0         \n",
      "_________________________________________________________________\n",
      "dense (Dense)                (None, 444)               682428    \n",
      "_________________________________________________________________\n",
      "dense_1 (Dense)              (None, 2)                 890       \n",
      "=================================================================\n",
      "Total params: 704,214\n",
      "Trainable params: 704,214\n",
      "Non-trainable params: 0\n",
      "_________________________________________________________________\n"
     ]
    }
   ],
   "source": [
    "# Model building and definition\n",
    "input_shape = (24,1,1)\n",
    "model = models.Sequential()\n",
    "model.add(layers.Conv2D(filters=32,  input_shape=input_shape, kernel_size=(1,10), activation='relu', padding='same'))\n",
    "model.add(layers.MaxPooling2D(pool_size=(1, 2), padding='same'))\n",
    "model.add(layers.Conv2D(filters=64,  input_shape=input_shape, kernel_size=(1,10), activation='relu', padding='same'))\n",
    "model.add(layers.MaxPooling2D(pool_size=(1, 2), padding='same'))\n",
    "model.add(layers.Flatten())\n",
    "model.add(Dense(444, activation='relu'))\n",
    "model.add(Dense(2, activation='softmax'))\n",
    "\n",
    "# Model summary\n",
    "model.summary()"
   ]
  },
  {
   "cell_type": "code",
   "execution_count": null,
   "metadata": {},
   "outputs": [],
   "source": [
    "# Early Stopping\n",
    "filepath = '../models/tmp/2_Train-Basic_Test+_Detection.hdf5' # define where the model is saved\n",
    "\n",
    "callbacks = [\n",
    "        keras.callbacks.EarlyStopping(\n",
    "            monitor = 'val_loss', # Use accuracy to monitor the model\n",
    "            patience = 15 # Stop after 15 steps with lower accuracy\n",
    "        ),\n",
    "        keras.callbacks.ModelCheckpoint(\n",
    "            filepath = filepath, # file where the checkpoint is saved\n",
    "            monitor = 'val_loss', # Don't overwrite the saved model unless val_loss is worse\n",
    "            save_best_only = True)]# Only save model if it is the best"
   ]
  },
  {
   "cell_type": "code",
   "execution_count": null,
   "metadata": {},
   "outputs": [
    {
     "name": "stdout",
     "output_type": "stream",
     "text": [
      "Epoch 1/15\n",
      "201/201 [==============================] - 42s 205ms/step - loss: 0.1193 - accuracy: 0.9653 - val_loss: 0.0572 - val_accuracy: 0.9903\n",
      "Epoch 2/15\n",
      "201/201 [==============================] - 44s 217ms/step - loss: 0.0307 - accuracy: 0.9921 - val_loss: 0.0758 - val_accuracy: 0.9866\n",
      "Epoch 3/15\n",
      "201/201 [==============================] - 38s 190ms/step - loss: 0.0278 - accuracy: 0.9922 - val_loss: 0.1426 - val_accuracy: 0.9612\n",
      "Epoch 4/15\n",
      "201/201 [==============================] - 39s 195ms/step - loss: 0.0269 - accuracy: 0.9923 - val_loss: 0.2812 - val_accuracy: 0.8473\n",
      "Epoch 5/15\n",
      "201/201 [==============================] - 43s 214ms/step - loss: 0.0262 - accuracy: 0.9923 - val_loss: 0.3619 - val_accuracy: 0.8190\n",
      "Epoch 6/15\n",
      "201/201 [==============================] - 40s 197ms/step - loss: 0.0258 - accuracy: 0.9923 - val_loss: 0.4103 - val_accuracy: 0.8051\n",
      "Epoch 7/15\n",
      "201/201 [==============================] - 38s 190ms/step - loss: 0.0258 - accuracy: 0.9923 - val_loss: 0.4510 - val_accuracy: 0.7744\n",
      "Epoch 8/15\n",
      "201/201 [==============================] - 39s 193ms/step - loss: 0.0251 - accuracy: 0.9924 - val_loss: 0.4956 - val_accuracy: 0.7768\n",
      "Epoch 9/15\n",
      "201/201 [==============================] - 39s 192ms/step - loss: 0.0249 - accuracy: 0.9924 - val_loss: 0.3772 - val_accuracy: 0.8317\n",
      "Epoch 10/15\n",
      "201/201 [==============================] - 40s 197ms/step - loss: 0.0243 - accuracy: 0.9924 - val_loss: 0.6113 - val_accuracy: 0.7612\n",
      "Epoch 11/15\n",
      "201/201 [==============================] - 39s 196ms/step - loss: 0.0238 - accuracy: 0.9925 - val_loss: 0.7165 - val_accuracy: 0.7406\n",
      "Epoch 12/15\n",
      "201/201 [==============================] - 38s 189ms/step - loss: 0.0231 - accuracy: 0.9925 - val_loss: 0.8338 - val_accuracy: 0.7370\n",
      "Epoch 13/15\n",
      "201/201 [==============================] - 38s 191ms/step - loss: 0.0227 - accuracy: 0.9925 - val_loss: 0.7964 - val_accuracy: 0.7565\n",
      "Epoch 14/15\n",
      "201/201 [==============================] - 39s 192ms/step - loss: 0.0220 - accuracy: 0.9925 - val_loss: 0.8300 - val_accuracy: 0.7627\n",
      "Epoch 15/15\n",
      "201/201 [==============================] - 41s 205ms/step - loss: 0.0216 - accuracy: 0.9927 - val_loss: 0.9602 - val_accuracy: 0.7219\n"
     ]
    }
   ],
   "source": [
    "#Configure model training\n",
    "model.compile(optimizer=tf.keras.optimizers.Adam(learning_rate=5e-4), loss='categorical_crossentropy', metrics=['accuracy'])\n",
    "history = model.fit(x_train, y_train, validation_data=(x_test, y_test), epochs=15, batch_size=2048, callbacks=callbacks)\n",
    "history2=history"
   ]
  },
  {
   "cell_type": "code",
   "execution_count": null,
   "metadata": {},
   "outputs": [],
   "source": [
    "#model.save('../models/UNSW-NB15_NON-TF.hdf5')"
   ]
  },
  {
   "cell_type": "code",
   "execution_count": null,
   "metadata": {},
   "outputs": [
    {
     "name": "stdout",
     "output_type": "stream",
     "text": [
      "dict_keys(['loss', 'accuracy', 'val_loss', 'val_accuracy'])\n"
     ]
    },
    {
     "data": {
      "image/png": "[encoded data removed]",
      "text/plain": [
       "<Figure size 432x288 with 1 Axes>"
      ]
     },
     "metadata": {},
     "output_type": "display_data"
    }
   ],
   "source": [
    "# summarize history for accuracy\n",
    "train_loss = history.history['loss']\n",
    "test_loss = history.history['val_loss']\n",
    "x = list(range(1, len(test_loss) + 1))\n",
    "plt.plot(x, test_loss, color = 'orange', label = 'Test loss')\n",
    "plt.plot(x, train_loss, label = 'Training losss')\n",
    "plt.legend()\n",
    "plt.grid(visible=True)\n",
    "plt.xlabel('Epoch')\n",
    "plt.ylabel('Loss')\n",
    "plt.title('Loss vs. Epoch', weight='bold', fontsize=18)\n",
    "plt.show()"
   ]
  },
  {
   "cell_type": "code",
   "execution_count": null,
   "metadata": {},
   "outputs": [
    {
     "data": {
      "image/png": "[encoded data removed]",
      "text/plain": [
       "<Figure size 432x288 with 1 Axes>"
      ]
     },
     "metadata": {},
     "output_type": "display_data"
    }
   ],
   "source": [
    "# summarize history for loss\n",
    "train_acc = history.history['accuracy']\n",
    "test_acc = history.history['val_accuracy']\n",
    "x = list(range(1, len(test_acc) + 1))\n",
    "plt.plot(x, test_acc, color = 'orange', label = 'Test accuracy')\n",
    "plt.plot(x, train_acc, label = 'Training accuracy')\n",
    "plt.legend()\n",
    "plt.grid(visible=True)\n",
    "plt.xlabel('Epoch')\n",
    "plt.ylabel('Accuracy')\n",
    "plt.title('Accuracy vs. Epoch', weight='bold', fontsize=18)\n",
    "plt.show()"
   ]
  },
  {
   "cell_type": "code",
   "execution_count": null,
   "metadata": {},
   "outputs": [
    {
     "data": {
      "image/png": "[encoded data removed]",
      "text/plain": [
       "<Figure size 432x288 with 1 Axes>"
      ]
     },
     "metadata": {},
     "output_type": "display_data"
    }
   ],
   "source": [
    "# Prediction\n",
    "predicted = model.predict(x_test)\n",
    "\n",
    "# Confusion matrix\n",
    "y_class = np.argmax(predicted, axis = 1) \n",
    "y_test=y_test.to_numpy()\n",
    "y_check = np.argmax(y_test, axis = 1) \n",
    "\n",
    "cmatrix = confusion_matrix(y_check, y_class)\n",
    "\n",
    "cmatrix_df = pd.DataFrame(cmatrix, index = ['Attack', 'Normal'], columns = ['Attack', 'Normal'])\n",
    "plt.title('Confusion matrix of the test/predicted attacks without TL', weight='bold', fontsize=14)\n",
    "plt.tick_params(length=0)\n",
    "plt.xlabel('Attacks')\n",
    "plt.ylabel('Predicted Attacks')\n",
    "sns.heatmap(cmatrix_df, annot=True, fmt=\"d\", cbar=False)\n",
    "plt.show()"
   ]
  },
  {
   "cell_type": "code",
   "execution_count": null,
   "metadata": {},
   "outputs": [
    {
     "data": {
      "image/png": "[encoded data removed]",
      "text/plain": [
       "<Figure size 432x288 with 1 Axes>"
      ]
     },
     "metadata": {},
     "output_type": "display_data"
    }
   ],
   "source": [
    "# Precision, Recall & F1-Score\n",
    "class_rep = classification_report(y_check, y_class, target_names = ['Attack', 'Normal'], output_dict=True)\n",
    "plt.tick_params(axis='both', which='major', labelsize=10, labelbottom = False, bottom=False, top = False, labeltop=True)\n",
    "plt.tick_params(length=0)\n",
    "sns.heatmap(pd.DataFrame(class_rep).iloc[:-1, :-3].T, square=True, cbar=False, annot=True)\n",
    "plt.show()"
   ]
  },
  {
   "cell_type": "code",
   "execution_count": null,
   "metadata": {},
   "outputs": [
    {
     "data": {
      "text/plain": [
       "{'Attack': {'precision': 0.9866184051771416,\n",
       "  'recall': 0.37198627021215,\n",
       "  'f1-score': 0.5402726890503934,\n",
       "  'support': 24181},\n",
       " 'Normal': {'precision': 0.6694024164580386,\n",
       "  'recall': 0.9960480710051505,\n",
       "  'f1-score': 0.8006926542197225,\n",
       "  'support': 30871},\n",
       " 'accuracy': 0.7219356245004723,\n",
       " 'macro avg': {'precision': 0.8280104108175901,\n",
       "  'recall': 0.6840171706086502,\n",
       "  'f1-score': 0.6704826716350579,\n",
       "  'support': 55052},\n",
       " 'weighted avg': {'precision': 0.8087361340925774,\n",
       "  'recall': 0.7219356245004723,\n",
       "  'f1-score': 0.6863059802067975,\n",
       "  'support': 55052}}"
      ]
     },
     "metadata": {},
     "output_type": "display_data"
    }
   ],
   "source": [
    "class_rep"
   ]
  },
  {
   "cell_type": "markdown",
   "metadata": {},
   "source": [
    "## Analysing Attack Detection"
   ]
  },
  {
   "cell_type": "markdown",
   "metadata": {},
   "source": [
    "### Code"
   ]
  },
  {
   "cell_type": "code",
   "execution_count": null,
   "metadata": {},
   "outputs": [
    {
     "data": {
      "text/plain": [
       "array([[9.0375528e-02, 9.0962452e-01],\n",
       "       [3.7101716e-02, 9.6289825e-01],\n",
       "       [1.1245415e-01, 8.8754588e-01],\n",
       "       ...,\n",
       "       [5.5595357e-16, 1.0000000e+00],\n",
       "       [3.5036892e-19, 1.0000000e+00],\n",
       "       [9.0872425e-14, 1.0000000e+00]], dtype=float32)"
      ]
     },
     "metadata": {},
     "output_type": "display_data"
    }
   ],
   "source": [
    "predicted"
   ]
  },
  {
   "cell_type": "code",
   "execution_count": null,
   "metadata": {},
   "outputs": [],
   "source": [
    "df = pd.DataFrame(predicted)\n",
    "df.index = data.index"
   ]
  },
  {
   "cell_type": "code",
   "execution_count": null,
   "metadata": {},
   "outputs": [],
   "source": [
    "df['attack']=data['label']\n",
    "df['category']=data['attack_cat']\n",
    "df['normal']=data_labels['normal']"
   ]
  },
  {
   "cell_type": "code",
   "execution_count": null,
   "metadata": {},
   "outputs": [],
   "source": [
    "df.columns = ['pred_attack', 'pred_normal', 'attack', 'category', 'normal']"
   ]
  },
  {
   "cell_type": "code",
   "execution_count": null,
   "metadata": {},
   "outputs": [],
   "source": [
    "dff=df\n",
    "df=pd.get_dummies(df)\n",
    "df=round(df)"
   ]
  },
  {
   "cell_type": "code",
   "execution_count": null,
   "metadata": {},
   "outputs": [],
   "source": [
    "analysis=df.loc[df['category_analysis'] == 1]\n",
    "analysis=analysis[['pred_attack', 'pred_normal', 'attack', 'normal']]\n",
    "analysis_pred=analysis[['pred_attack','pred_normal']]\n",
    "analysis_check=analysis[['attack','normal']]\n",
    "\n",
    "backdoor=df.loc[df['category_backdoor'] == 1]\n",
    "backdoor=backdoor[['pred_attack', 'pred_normal', 'attack', 'normal']]\n",
    "backdoor_pred=backdoor[['pred_attack','pred_normal']]\n",
    "backdoor_check=backdoor[['attack','normal']]\n",
    "\n",
    "fuzzers=df.loc[df['category_fuzzers'] == 1]\n",
    "fuzzers=fuzzers[['pred_attack', 'pred_normal', 'attack', 'normal']]\n",
    "fuzzers_pred=fuzzers[['pred_attack','pred_normal']]\n",
    "fuzzers_check=fuzzers[['attack','normal']]\n",
    "\n",
    "normal=df.loc[df['category_normal'] == 1]\n",
    "normal=normal[['pred_attack', 'pred_normal', 'attack', 'normal']]\n",
    "normal_pred=normal[['pred_attack','pred_normal']]\n",
    "normal_check=normal[['attack','normal']]\n",
    "\n",
    "shellcode=df.loc[df['category_shellcode'] == 1]\n",
    "shellcode=shellcode[['pred_attack', 'pred_normal', 'attack', 'normal']]\n",
    "shellcode_pred=shellcode[['pred_attack','pred_normal']]\n",
    "shellcode_check=shellcode[['attack','normal']]\n",
    "\n",
    "worms=df.loc[df['category_worms'] == 1]\n",
    "worms=worms[['pred_attack', 'pred_normal', 'attack', 'normal']]\n",
    "worms_pred=worms[['pred_attack','pred_normal']]\n",
    "worms_check=worms[['attack','normal']]"
   ]
  },
  {
   "cell_type": "code",
   "execution_count": null,
   "metadata": {},
   "outputs": [],
   "source": [
    "#Correctly detected\n",
    "countdata=pd.DataFrame()\n",
    "normal_c = normal['pred_normal'] * normal['normal']\n",
    "analysis_c = analysis['pred_attack'] * analysis['attack']\n",
    "backdoor_c = backdoor['pred_attack'] * backdoor['attack']\n",
    "fuzzers_c = fuzzers['pred_attack'] * fuzzers['attack']\n",
    "shellcode_c = shellcode['pred_attack'] * shellcode['attack']\n",
    "worms_c = worms['pred_attack'] * worms['attack']\n"
   ]
  },
  {
   "cell_type": "code",
   "execution_count": null,
   "metadata": {},
   "outputs": [],
   "source": [
    "# Count 0 and 1\n",
    "normal_c0 = (normal_c == 0).sum()\n",
    "normal_c1 = len(normal) - normal_c0\n",
    "\n",
    "analysis_c0 = (analysis_c == 0).sum()\n",
    "analysis_c1 = len(analysis) - analysis_c0\n",
    "\n",
    "backdoor_c0 = (backdoor_c == 0).sum()\n",
    "backdoor_c1 = len(backdoor) - backdoor_c0\n",
    "\n",
    "fuzzers_c0 = (fuzzers_c == 0).sum()\n",
    "fuzzers_c1 = len(fuzzers) - fuzzers_c0\n",
    "\n",
    "shellcode_c0 = (shellcode_c == 0).sum()\n",
    "shellcode_c1 = len(shellcode) - shellcode_c0\n",
    "\n",
    "worms_c0 = (worms_c == 0).sum()\n",
    "worms_c1 = len(worms) - worms_c0"
   ]
  },
  {
   "cell_type": "code",
   "execution_count": null,
   "metadata": {},
   "outputs": [
    {
     "name": "stdout",
     "output_type": "stream",
     "text": [
      "There are 0.40 % of NO detected and 99.60 % of detected samples\n"
     ]
    }
   ],
   "source": [
    "normal_0, normal_1 = normal_c0*100 / len(normal), normal_c1*100 / len(normal)\n",
    "print(\"There are {:.2f} % of NO detected and {:.2f} % of detected samples\".format(normal_0, normal_1))"
   ]
  },
  {
   "cell_type": "code",
   "execution_count": null,
   "metadata": {},
   "outputs": [
    {
     "name": "stdout",
     "output_type": "stream",
     "text": [
      "There are 51.93 % of NO detected and 48.07 % of detected samples\n"
     ]
    }
   ],
   "source": [
    "analysis_0, analysis_1 = analysis_c0*100 / len(analysis), analysis_c1*100 / len(analysis)\n",
    "print(\"There are {:.2f} % of NO detected and {:.2f} % of detected samples\".format(analysis_0, analysis_1))"
   ]
  },
  {
   "cell_type": "code",
   "execution_count": null,
   "metadata": {},
   "outputs": [
    {
     "name": "stdout",
     "output_type": "stream",
     "text": [
      "There are 80.39 % of NO detected and 19.61 % of detected samples\n"
     ]
    }
   ],
   "source": [
    "backdoor_0, backdoor_1 = backdoor_c0*100 / len(backdoor), backdoor_c1*100 / len(backdoor)\n",
    "print(\"There are {:.2f} % of NO detected and {:.2f} % of detected samples\".format(backdoor_0, backdoor_1))"
   ]
  },
  {
   "cell_type": "code",
   "execution_count": null,
   "metadata": {},
   "outputs": [
    {
     "name": "stdout",
     "output_type": "stream",
     "text": [
      "There are 64.89 % of NO detected and 35.11 % of detected samples\n"
     ]
    }
   ],
   "source": [
    "fuzzers_0, fuzzers_1 = fuzzers_c0*100 / len(fuzzers), fuzzers_c1*100 / len(fuzzers)\n",
    "print(\"There are {:.2f} % of NO detected and {:.2f} % of detected samples\".format(fuzzers_0, fuzzers_1))"
   ]
  },
  {
   "cell_type": "code",
   "execution_count": null,
   "metadata": {},
   "outputs": [
    {
     "name": "stdout",
     "output_type": "stream",
     "text": [
      "There are 36.27 % of NO detected and 63.73 % of detected samples\n"
     ]
    }
   ],
   "source": [
    "shellcode_0, shellcode_1 = shellcode_c0*100 / len(shellcode), shellcode_c1*100 / len(shellcode)\n",
    "print(\"There are {:.2f} % of NO detected and {:.2f} % of detected samples\".format(shellcode_0, shellcode_1))"
   ]
  },
  {
   "cell_type": "code",
   "execution_count": null,
   "metadata": {},
   "outputs": [
    {
     "name": "stdout",
     "output_type": "stream",
     "text": [
      "There are 37.93 % of NO detected and 62.07 % of detected samples\n"
     ]
    }
   ],
   "source": [
    "worms_0, worms_1 = worms_c0*100 / len(worms), worms_c1*100 / len(worms)\n",
    "print(\"There are {:.2f} % of NO detected and {:.2f} % of detected samples\".format(worms_0, worms_1))"
   ]
  },
  {
   "cell_type": "code",
   "execution_count": null,
   "metadata": {},
   "outputs": [],
   "source": [
    "summary = pd.DataFrame({\"Traffic\":\n",
    "                   [\"Normal\", \"Analysis\", \"Backdoor\", \"Fuzzers\", \"Shellcode\", \"Worms\"],\n",
    "                   \"Detected %\": [normal_1, analysis_1, backdoor_1, fuzzers_1, shellcode_1, worms_1],\n",
    "                   \"No Detected %\": [normal_0, analysis_0, backdoor_0, fuzzers_0, shellcode_0, worms_0],\n",
    "                   \"Detected Samples\": [normal_c1, analysis_c1, backdoor_c1, fuzzers_c1, shellcode_c1, worms_c1],\n",
    "                   \"No Detected Samples\": [normal_c0, analysis_c0, backdoor_c0, fuzzers_c0, shellcode_c0, worms_c0]})"
   ]
  },
  {
   "cell_type": "code",
   "execution_count": null,
   "metadata": {},
   "outputs": [],
   "source": [
    "dff['category_pred'] = np.where(((df['attack'] == 1) & (df['pred_attack'] == 1)) | ((df['normal'] == 1) & (df['pred_normal'] == 1)), 'Detected', 'No Detected')"
   ]
  },
  {
   "cell_type": "code",
   "execution_count": null,
   "metadata": {},
   "outputs": [],
   "source": [
    "data_plot=dff[['category', 'category_pred']]"
   ]
  },
  {
   "cell_type": "code",
   "execution_count": null,
   "metadata": {},
   "outputs": [
    {
     "data": {
      "text/html": [
       "<div>\n",
       "<style scoped>\n",
       "    .dataframe tbody tr th:only-of-type {\n",
       "        vertical-align: middle;\n",
       "    }\n",
       "\n",
       "    .dataframe tbody tr th {\n",
       "        vertical-align: top;\n",
       "    }\n",
       "\n",
       "    .dataframe thead th {\n",
       "        text-align: right;\n",
       "    }\n",
       "</style>\n",
       "<table border=\"1\" class=\"dataframe\">\n",
       "  <thead>\n",
       "    <tr style=\"text-align: right;\">\n",
       "      <th></th>\n",
       "      <th>category</th>\n",
       "      <th>category_pred</th>\n",
       "    </tr>\n",
       "  </thead>\n",
       "  <tbody>\n",
       "    <tr>\n",
       "      <th>4</th>\n",
       "      <td>fuzzers</td>\n",
       "      <td>No Detected</td>\n",
       "    </tr>\n",
       "    <tr>\n",
       "      <th>5</th>\n",
       "      <td>fuzzers</td>\n",
       "      <td>No Detected</td>\n",
       "    </tr>\n",
       "    <tr>\n",
       "      <th>6</th>\n",
       "      <td>fuzzers</td>\n",
       "      <td>No Detected</td>\n",
       "    </tr>\n",
       "    <tr>\n",
       "      <th>7</th>\n",
       "      <td>fuzzers</td>\n",
       "      <td>No Detected</td>\n",
       "    </tr>\n",
       "    <tr>\n",
       "      <th>8</th>\n",
       "      <td>fuzzers</td>\n",
       "      <td>No Detected</td>\n",
       "    </tr>\n",
       "    <tr>\n",
       "      <th>...</th>\n",
       "      <td>...</td>\n",
       "      <td>...</td>\n",
       "    </tr>\n",
       "    <tr>\n",
       "      <th>61869</th>\n",
       "      <td>normal</td>\n",
       "      <td>Detected</td>\n",
       "    </tr>\n",
       "    <tr>\n",
       "      <th>61870</th>\n",
       "      <td>normal</td>\n",
       "      <td>Detected</td>\n",
       "    </tr>\n",
       "    <tr>\n",
       "      <th>61871</th>\n",
       "      <td>normal</td>\n",
       "      <td>Detected</td>\n",
       "    </tr>\n",
       "    <tr>\n",
       "      <th>61872</th>\n",
       "      <td>normal</td>\n",
       "      <td>Detected</td>\n",
       "    </tr>\n",
       "    <tr>\n",
       "      <th>61873</th>\n",
       "      <td>normal</td>\n",
       "      <td>Detected</td>\n",
       "    </tr>\n",
       "  </tbody>\n",
       "</table>\n",
       "<p>55052 rows × 2 columns</p>\n",
       "</div>"
      ],
      "text/plain": [
       "      category category_pred\n",
       "4      fuzzers   No Detected\n",
       "5      fuzzers   No Detected\n",
       "6      fuzzers   No Detected\n",
       "7      fuzzers   No Detected\n",
       "8      fuzzers   No Detected\n",
       "...        ...           ...\n",
       "61869   normal      Detected\n",
       "61870   normal      Detected\n",
       "61871   normal      Detected\n",
       "61872   normal      Detected\n",
       "61873   normal      Detected\n",
       "\n",
       "[55052 rows x 2 columns]"
      ]
     },
     "metadata": {},
     "output_type": "display_data"
    }
   ],
   "source": [
    "data_plot"
   ]
  },
  {
   "cell_type": "markdown",
   "metadata": {},
   "source": [
    "### Results"
   ]
  },
  {
   "cell_type": "code",
   "execution_count": null,
   "metadata": {},
   "outputs": [
    {
     "data": {
      "image/png": "[encoded data removed]",
      "text/plain": [
       "<Figure size 1080x360 with 1 Axes>"
      ]
     },
     "metadata": {},
     "output_type": "display_data"
    }
   ],
   "source": [
    "# Plotting target label distribution\n",
    "plt.figure(figsize=(15,5))\n",
    "sns.set_theme(style=\"darkgrid\")\n",
    "sns.countplot(x=data_plot['category'], data=data_plot, hue=data_plot['category_pred'])\n",
    "plt.title('The detection of the attacks in Test+ dataset', weight='bold', fontsize='18')\n",
    "plt.xticks(weight='bold', fontsize=12)\n",
    "plt.show()"
   ]
  },
  {
   "cell_type": "code",
   "execution_count": null,
   "metadata": {},
   "outputs": [
    {
     "data": {
      "text/html": [
       "<div>\n",
       "<style scoped>\n",
       "    .dataframe tbody tr th:only-of-type {\n",
       "        vertical-align: middle;\n",
       "    }\n",
       "\n",
       "    .dataframe tbody tr th {\n",
       "        vertical-align: top;\n",
       "    }\n",
       "\n",
       "    .dataframe thead th {\n",
       "        text-align: right;\n",
       "    }\n",
       "</style>\n",
       "<table border=\"1\" class=\"dataframe\">\n",
       "  <thead>\n",
       "    <tr style=\"text-align: right;\">\n",
       "      <th></th>\n",
       "      <th>Traffic</th>\n",
       "      <th>Detected %</th>\n",
       "      <th>No Detected %</th>\n",
       "      <th>Detected Samples</th>\n",
       "      <th>No Detected Samples</th>\n",
       "    </tr>\n",
       "  </thead>\n",
       "  <tbody>\n",
       "    <tr>\n",
       "      <th>0</th>\n",
       "      <td>Normal</td>\n",
       "      <td>99.604807</td>\n",
       "      <td>0.395193</td>\n",
       "      <td>30749</td>\n",
       "      <td>122</td>\n",
       "    </tr>\n",
       "    <tr>\n",
       "      <th>1</th>\n",
       "      <td>Analysis</td>\n",
       "      <td>48.070740</td>\n",
       "      <td>51.929260</td>\n",
       "      <td>299</td>\n",
       "      <td>323</td>\n",
       "    </tr>\n",
       "    <tr>\n",
       "      <th>2</th>\n",
       "      <td>Backdoor</td>\n",
       "      <td>19.607843</td>\n",
       "      <td>80.392157</td>\n",
       "      <td>70</td>\n",
       "      <td>287</td>\n",
       "    </tr>\n",
       "    <tr>\n",
       "      <th>3</th>\n",
       "      <td>Fuzzers</td>\n",
       "      <td>35.111772</td>\n",
       "      <td>64.888228</td>\n",
       "      <td>7555</td>\n",
       "      <td>13962</td>\n",
       "    </tr>\n",
       "    <tr>\n",
       "      <th>4</th>\n",
       "      <td>Shellcode</td>\n",
       "      <td>63.732627</td>\n",
       "      <td>36.267373</td>\n",
       "      <td>963</td>\n",
       "      <td>548</td>\n",
       "    </tr>\n",
       "    <tr>\n",
       "      <th>5</th>\n",
       "      <td>Worms</td>\n",
       "      <td>62.068966</td>\n",
       "      <td>37.931034</td>\n",
       "      <td>108</td>\n",
       "      <td>66</td>\n",
       "    </tr>\n",
       "  </tbody>\n",
       "</table>\n",
       "</div>"
      ],
      "text/plain": [
       "     Traffic  Detected %  No Detected %  Detected Samples  No Detected Samples\n",
       "0     Normal   99.604807       0.395193             30749                  122\n",
       "1   Analysis   48.070740      51.929260               299                  323\n",
       "2   Backdoor   19.607843      80.392157                70                  287\n",
       "3    Fuzzers   35.111772      64.888228              7555                13962\n",
       "4  Shellcode   63.732627      36.267373               963                  548\n",
       "5      Worms   62.068966      37.931034               108                   66"
      ]
     },
     "metadata": {},
     "output_type": "display_data"
    }
   ],
   "source": [
    "summary"
   ]
  },
  {
   "cell_type": "code",
   "execution_count": null,
   "metadata": {},
   "outputs": [],
   "source": [
    "summary.to_csv('../others/No_TransferLearning.csv', index=False)"
   ]
  },
  {
   "cell_type": "markdown",
   "metadata": {},
   "source": [
    "## Comparision between Basic-Test and Test+"
   ]
  },
  {
   "cell_type": "code",
   "execution_count": null,
   "metadata": {},
   "outputs": [
    {
     "data": {
      "image/png": "[encoded data removed]",
      "text/plain": [
       "<Figure size 432x288 with 1 Axes>"
      ]
     },
     "metadata": {},
     "output_type": "display_data"
    }
   ],
   "source": [
    "# summarize history for accuracy\n",
    "loss_1 = history1.history['val_loss']\n",
    "loss_2 = history2.history['val_loss']\n",
    "x = list(range(1, len(loss_1) + 1))\n",
    "plt.plot(x, loss_2, color = 'blue', label = 'Test+ loss')\n",
    "plt.plot(x, loss_1, color = 'red', label = 'Test-Basic loss')\n",
    "plt.legend()\n",
    "plt.grid(visible=True)\n",
    "plt.xlabel('Epoch')\n",
    "plt.ylabel('Loss')\n",
    "plt.title('Loss vs. Epoch', weight='bold', fontsize=18)\n",
    "plt.show()"
   ]
  },
  {
   "cell_type": "code",
   "execution_count": null,
   "metadata": {},
   "outputs": [
    {
     "data": {
      "image/png": "[encoded data removed]",
      "text/plain": [
       "<Figure size 432x288 with 1 Axes>"
      ]
     },
     "metadata": {},
     "output_type": "display_data"
    }
   ],
   "source": [
    "# summarize history for loss\n",
    "acc_1 = history1.history['val_accuracy']\n",
    "acc_2 = history2.history['val_accuracy']\n",
    "x = list(range(1, len(acc_1) + 1))\n",
    "plt.plot(x, acc_2, color = 'blue', label = 'Test+ accuracy')\n",
    "plt.plot(x, acc_1, color = 'red', label = 'Test-Basic accuracy')\n",
    "plt.legend()\n",
    "plt.grid(visible=True)\n",
    "plt.xlabel('Epoch')\n",
    "plt.ylabel('Accuracy')\n",
    "plt.title('Accuracy vs. Epoch', weight='bold', fontsize=18)\n",
    "plt.show()"
   ]
  },
  {
   "cell_type": "markdown",
   "metadata": {},
   "source": [
    "# 3. UNSW-NB15-Train-Basic for training and UNSW-NB15 for validation"
   ]
  },
  {
   "cell_type": "code",
   "execution_count": null,
   "metadata": {},
   "outputs": [],
   "source": [
    "# Load UNSW-NB15\n",
    "data = pd.read_csv('../datasets/UNSW-NB15-Test.csv', low_memory=False)\n",
    "\n",
    "# Select the 'proto' and 'state' values that I want\n",
    "data = data.loc[(data['proto'] == 'tcp') | (data['proto'] =='udp') | (data['proto'] =='icmp') | (data['proto'] =='arp') | (data['proto'] =='ipv6-icmp') | (data['proto'] =='igmp') | (data['proto'] =='rarp'), :]\n",
    "data = data.loc[(data['state'] == 'RST') | (data['state'] =='REQ') | (data['state'] =='INT') | (data['state'] =='FIN') | (data['state'] =='CON') | (data['state'] =='ECO') | (data['state'] =='ACC') | (data['state'] =='PAR'), :]\n",
    "\n",
    "# Extracting dataset labels\n",
    "data_labels=data[['label']]\n",
    "\n",
    "#Extracting dataset features\n",
    "data_features=data[['proto','srcip','sport','dstip','dsport','spkts','dpkts','sbytes','dbytes','state','stime','ltime','dur']]"
   ]
  },
  {
   "cell_type": "code",
   "execution_count": null,
   "metadata": {},
   "outputs": [],
   "source": [
    "\"\"\"PREPROCESSING\"\"\"\n",
    "\n",
    "# Preprocess IP and ports features\n",
    "# IP Source Address\n",
    "data_features['srcip'] = data_features['srcip'].apply(lambda x: x.split(\".\")[-1])\n",
    "data_features['srcip'] = data_features['srcip'].apply(lambda x: x.split(\":\")[-1])\n",
    "data_features['srcip'] = data_features['srcip'].apply(lambda x: int(x, 16))\n",
    "\n",
    "# IP Destination Address\n",
    "data_features['dstip'] = data_features['dstip'].apply(lambda x: x.split(\".\")[-1])\n",
    "data_features['dstip'] = data_features['dstip'].apply(lambda x: x.split(\":\")[-1])\n",
    "data_features['dstip'] = data_features['dstip'].apply(lambda x: int(x, 16))\n",
    "\n",
    "# Ports\n",
    "data_features['sport'] = data_features['sport'].apply(lambda x: x.replace('0x','') if \"0x\" in str(x) else x)\n",
    "data_features['dsport'] = data_features['dsport'].apply(lambda x: x.replace('0x','') if \"0x\" in str(x) else x)\n",
    "\n",
    "# Convert all ports with 0 decimal, and HEX to DEC\n",
    "data_features['sport'] = data_features['sport'].apply(lambda x: str(x)[:-2] if str(x)[-2:] == '.0' else str(x))\n",
    "data_features['sport'] = data_features['sport'].apply(lambda x: -1 if str(x).isalpha()==True else int(x,16))\n",
    "\n",
    "data_features['dsport'] = data_features['dsport'].replace('-', -1)\n",
    "data_features['dsport'] = data_features['dsport'].apply(lambda x: str(x)[:-2] if str(x)[-2:] == '.0' else str(x))\n",
    "data_features['dsport'] = data_features['dsport'].apply(lambda x: -1 if str(x).isalpha()==True else int(x,16))\n",
    "\n",
    "# Convert field to int format\n",
    "data_features['srcip'] = data_features['srcip'].astype(int)\n",
    "data_features['sport'] = data_features['sport'].astype(int)\n",
    "data_features['dstip'] = data_features['dstip'].astype(int)\n",
    "data_features['dsport'] = data_features['dsport'].astype(int)\n",
    "\n",
    "# Convert some fields to logarithmic\n",
    "log1p_col = ['dur', 'sbytes', 'dbytes', 'spkts']\n",
    "\n",
    "for col in log1p_col:\n",
    "    data_features[col] = data_features[col].apply(np.log1p)\n",
    "    \n",
    "# Create a complementary field of attack & Transform to One hot encoding - LABELS\n",
    "normal=data_labels['label']\n",
    "normal=normal.replace(1,2)\n",
    "normal=normal.replace(0,1)\n",
    "normal=normal.replace(2,0)\n",
    "\n",
    "# Insert the new column in data labels\n",
    "data_labels.insert(1, 'normal', normal)\n",
    "data_labels = pd.get_dummies(data_labels)\n",
    "\n",
    "# Transform to One hot encoding - FEATURES\n",
    "data_features=pd.get_dummies(data_features)\n",
    "\n",
    "# Normalize all data features\n",
    "data_features = StandardScaler().fit_transform(data_features)\n",
    "\n",
    "#Add dimension to data features\n",
    "data_features = np.expand_dims(data_features, axis=2)\n",
    "data_features = np.expand_dims(data_features, axis=3)\n",
    "\n",
    "x_test, y_test=data_features, data_labels"
   ]
  },
  {
   "cell_type": "code",
   "execution_count": null,
   "metadata": {},
   "outputs": [
    {
     "data": {
      "text/plain": [
       "(2495843, 24, 1, 1)"
      ]
     },
     "metadata": {},
     "output_type": "display_data"
    }
   ],
   "source": [
    "x_test.shape"
   ]
  },
  {
   "cell_type": "code",
   "execution_count": null,
   "metadata": {},
   "outputs": [],
   "source": [
    "# Load Transfer Learning model\n",
    "modelFE = load_model('../models/UNSW-NB15_NON-TF.hdf5')"
   ]
  },
  {
   "cell_type": "code",
   "execution_count": null,
   "metadata": {},
   "outputs": [
    {
     "name": "stdout",
     "output_type": "stream",
     "text": [
      "test loss, test acc: [0.6559886336326599, 0.8537527918815613]\n"
     ]
    }
   ],
   "source": [
    "#Evaluate the model\n",
    "results = model.evaluate(x_test, y_test, verbose=0)\n",
    "print(\"test loss, test acc:\", results)"
   ]
  },
  {
   "cell_type": "code",
   "execution_count": null,
   "metadata": {},
   "outputs": [
    {
     "data": {
      "image/png": "[encoded data removed]",
      "text/plain": [
       "<Figure size 432x288 with 1 Axes>"
      ]
     },
     "metadata": {},
     "output_type": "display_data"
    }
   ],
   "source": [
    "# Prediction\n",
    "predicted = model.predict(x_test)\n",
    "\n",
    "# Confusion matrix\n",
    "y_class = np.argmax(predicted, axis = 1)\n",
    "y_test1=y_test\n",
    "y_test1=y_test1.to_numpy()\n",
    "y_check = np.argmax(y_test1, axis = 1) \n",
    "\n",
    "cmatrix = confusion_matrix(y_check, y_class)\n",
    "\n",
    "cmatrix_df = pd.DataFrame(cmatrix, index = ['Attack', 'Normal'], columns = ['Attack', 'Normal'])\n",
    "plt.title('Confusion matrix of the test/predicted attacks ', weight='bold', fontsize=18)\n",
    "plt.tick_params(length=0)\n",
    "plt.xlabel('Attacks')\n",
    "plt.ylabel('Predicted Attacks')\n",
    "sns.heatmap(cmatrix_df, annot=True, fmt=\"d\", cbar=False)\n",
    "plt.show()"
   ]
  },
  {
   "cell_type": "code",
   "execution_count": null,
   "metadata": {},
   "outputs": [
    {
     "data": {
      "image/png": "[encoded data removed]",
      "text/plain": [
       "<Figure size 432x288 with 2 Axes>"
      ]
     },
     "metadata": {},
     "output_type": "display_data"
    }
   ],
   "source": [
    "# Precision, Recall & F1-Score\n",
    "class_rep = classification_report(y_check, y_class, target_names = ['Attack', 'Normal'], output_dict=True)\n",
    "plt.tick_params(axis='both', which='major', labelsize=10, labelbottom = False, bottom=False, top = False, labeltop=True)\n",
    "plt.tick_params(length=0)\n",
    "sns.heatmap(pd.DataFrame(class_rep).iloc[:-1, :-3].T, square=True, cbar=True, annot=True)\n",
    "plt.show()"
   ]
  },
  {
   "cell_type": "code",
   "execution_count": null,
   "metadata": {},
   "outputs": [],
   "source": [
    "# Precision, Recall & F1-Score\n",
    "FPR, TPR, THRESHOLD = metrics.roc_curve(y_check, y_class)"
   ]
  },
  {
   "cell_type": "code",
   "execution_count": null,
   "metadata": {},
   "outputs": [
    {
     "data": {
      "text/plain": [
       "0.16043173378072095"
      ]
     },
     "metadata": {},
     "output_type": "display_data"
    }
   ],
   "source": [
    "FPR[1]"
   ]
  },
  {
   "cell_type": "code",
   "execution_count": null,
   "metadata": {},
   "outputs": [
    {
     "data": {
      "text/plain": [
       "{'Attack': {'precision': 0.42535504356842374,\n",
       "  'recall': 0.839568266219279,\n",
       "  'f1-score': 0.5646422888930767,\n",
       "  'support': 281933},\n",
       " 'Normal': {'precision': 0.9766773815306271,\n",
       "  'recall': 0.8555591690719135,\n",
       "  'f1-score': 0.9121150745725298,\n",
       "  'support': 2213910},\n",
       " 'accuracy': 0.8537528201894109,\n",
       " 'macro avg': {'precision': 0.7010162125495254,\n",
       "  'recall': 0.8475637176455963,\n",
       "  'f1-score': 0.7383786817328033,\n",
       "  'support': 2495843},\n",
       " 'weighted avg': {'precision': 0.9143994414884459,\n",
       "  'recall': 0.8537528201894109,\n",
       "  'f1-score': 0.872864190248089,\n",
       "  'support': 2495843}}"
      ]
     },
     "metadata": {},
     "output_type": "display_data"
    }
   ],
   "source": [
    "class_rep"
   ]
  },
  {
   "cell_type": "markdown",
   "metadata": {},
   "source": [
    "## Analysing Attack Detection"
   ]
  },
  {
   "cell_type": "markdown",
   "metadata": {},
   "source": [
    "### Code"
   ]
  },
  {
   "cell_type": "code",
   "execution_count": null,
   "metadata": {},
   "outputs": [
    {
     "data": {
      "text/plain": [
       "array([[3.6180351e-04, 9.9963820e-01],\n",
       "       [9.6068311e-01, 3.9316952e-02],\n",
       "       [5.1086041e-04, 9.9948907e-01],\n",
       "       ...,\n",
       "       [2.7438837e-01, 7.2561169e-01],\n",
       "       [8.8625019e-12, 1.0000000e+00],\n",
       "       [7.1627921e-01, 2.8372082e-01]], dtype=float32)"
      ]
     },
     "metadata": {},
     "output_type": "display_data"
    }
   ],
   "source": [
    "predicted"
   ]
  },
  {
   "cell_type": "code",
   "execution_count": null,
   "metadata": {},
   "outputs": [],
   "source": [
    "df = pd.DataFrame(predicted)\n",
    "df.index = data.index"
   ]
  },
  {
   "cell_type": "code",
   "execution_count": null,
   "metadata": {},
   "outputs": [],
   "source": [
    "df['attack']=data['label']\n",
    "df['category']=data['attack_cat']\n",
    "df['normal']=data_labels['normal']"
   ]
  },
  {
   "cell_type": "code",
   "execution_count": null,
   "metadata": {},
   "outputs": [],
   "source": [
    "df.columns = ['pred_attack', 'pred_normal', 'attack', 'category', 'normal']"
   ]
  },
  {
   "cell_type": "code",
   "execution_count": null,
   "metadata": {},
   "outputs": [],
   "source": [
    "dff=df\n",
    "df=pd.get_dummies(df)\n",
    "df=round(df)"
   ]
  },
  {
   "cell_type": "code",
   "execution_count": null,
   "metadata": {},
   "outputs": [],
   "source": [
    "analysis=df.loc[df['category_analysis'] == 1]\n",
    "analysis=analysis[['pred_attack', 'pred_normal', 'attack', 'normal']]\n",
    "analysis_pred=analysis[['pred_attack','pred_normal']]\n",
    "analysis_check=analysis[['attack','normal']]\n",
    "\n",
    "backdoor=df.loc[df['category_backdoor'] == 1]\n",
    "backdoor=backdoor[['pred_attack', 'pred_normal', 'attack', 'normal']]\n",
    "backdoor_pred=backdoor[['pred_attack','pred_normal']]\n",
    "backdoor_check=backdoor[['attack','normal']]\n",
    "\n",
    "fuzzers=df.loc[df['category_fuzzers'] == 1]\n",
    "fuzzers=fuzzers[['pred_attack', 'pred_normal', 'attack', 'normal']]\n",
    "fuzzers_pred=fuzzers[['pred_attack','pred_normal']]\n",
    "fuzzers_check=fuzzers[['attack','normal']]\n",
    "\n",
    "normal=df.loc[df['category_normal'] == 1]\n",
    "normal=normal[['pred_attack', 'pred_normal', 'attack', 'normal']]\n",
    "normal_pred=normal[['pred_attack','pred_normal']]\n",
    "normal_check=normal[['attack','normal']]\n",
    "\n",
    "shellcode=df.loc[df['category_shellcode'] == 1]\n",
    "shellcode=shellcode[['pred_attack', 'pred_normal', 'attack', 'normal']]\n",
    "shellcode_pred=shellcode[['pred_attack','pred_normal']]\n",
    "shellcode_check=shellcode[['attack','normal']]\n",
    "\n",
    "worms=df.loc[df['category_worms'] == 1]\n",
    "worms=worms[['pred_attack', 'pred_normal', 'attack', 'normal']]\n",
    "worms_pred=worms[['pred_attack','pred_normal']]\n",
    "worms_check=worms[['attack','normal']]\n",
    "\n",
    "generic=df.loc[df['category_generic'] == 1]\n",
    "generic=generic[['pred_attack', 'pred_normal', 'attack', 'normal']]\n",
    "generic_pred=generic[['pred_attack','pred_normal']]\n",
    "generic_check=generic[['attack','normal']]\n",
    "\n",
    "exploits=df.loc[df['category_exploits'] == 1]\n",
    "exploits=exploits[['pred_attack', 'pred_normal', 'attack', 'normal']]\n",
    "exploits_pred=exploits[['pred_attack','pred_normal']]\n",
    "exploits_check=exploits[['attack','normal']]\n",
    "\n",
    "reconnaissance=df.loc[df['category_reconnaissance'] == 1]\n",
    "reconnaissance=reconnaissance[['pred_attack', 'pred_normal', 'attack', 'normal']]\n",
    "reconnaissance_pred=reconnaissance[['pred_attack','pred_normal']]\n",
    "reconnaissance_check=reconnaissance[['attack','normal']]\n",
    "\n",
    "dos=df.loc[df['category_dos'] == 1]\n",
    "dos=dos[['pred_attack', 'pred_normal', 'attack', 'normal']]\n",
    "dos_pred=dos[['pred_attack','pred_normal']]\n",
    "dos_check=dos[['attack','normal']]"
   ]
  },
  {
   "cell_type": "code",
   "execution_count": null,
   "metadata": {},
   "outputs": [],
   "source": [
    "#Correctly detected\n",
    "countdata=pd.DataFrame()\n",
    "normal_c = normal['pred_normal'] * normal['normal']\n",
    "analysis_c = analysis['pred_attack'] * analysis['attack']\n",
    "backdoor_c = backdoor['pred_attack'] * backdoor['attack']\n",
    "fuzzers_c = fuzzers['pred_attack'] * fuzzers['attack']\n",
    "shellcode_c = shellcode['pred_attack'] * shellcode['attack']\n",
    "worms_c = worms['pred_attack'] * worms['attack']\n",
    "generic_c = generic['pred_attack'] * generic['attack']\n",
    "exploits_c = exploits['pred_attack'] * exploits['attack']\n",
    "reconnaissance_c = reconnaissance['pred_attack'] * reconnaissance['attack']\n",
    "dos_c = dos['pred_attack'] * dos['attack']"
   ]
  },
  {
   "cell_type": "code",
   "execution_count": null,
   "metadata": {},
   "outputs": [],
   "source": [
    "# Count 0 and 1\n",
    "normal_c0 = (normal_c == 0).sum()\n",
    "normal_c1 = len(normal) - normal_c0\n",
    "\n",
    "analysis_c0 = (analysis_c == 0).sum()\n",
    "analysis_c1 = len(analysis) - analysis_c0\n",
    "\n",
    "backdoor_c0 = (backdoor_c == 0).sum()\n",
    "backdoor_c1 = len(backdoor) - backdoor_c0\n",
    "\n",
    "fuzzers_c0 = (fuzzers_c == 0).sum()\n",
    "fuzzers_c1 = len(fuzzers) - fuzzers_c0\n",
    "\n",
    "shellcode_c0 = (shellcode_c == 0).sum()\n",
    "shellcode_c1 = len(shellcode) - shellcode_c0\n",
    "\n",
    "worms_c0 = (worms_c == 0).sum()\n",
    "worms_c1 = len(worms) - worms_c0\n",
    "\n",
    "generic_c0 = (generic_c == 0).sum()\n",
    "generic_c1 = len(generic) - generic_c0\n",
    "\n",
    "exploits_c0 = (exploits_c == 0).sum()\n",
    "exploits_c1 = len(exploits) - exploits_c0\n",
    "\n",
    "reconnaissance_c0 = (reconnaissance_c == 0).sum()\n",
    "reconnaissance_c1 = len(reconnaissance) - reconnaissance_c0\n",
    "\n",
    "dos_c0 = (dos_c == 0).sum()\n",
    "dos_c1 = len(dos) - dos_c0"
   ]
  },
  {
   "cell_type": "code",
   "execution_count": null,
   "metadata": {},
   "outputs": [
    {
     "name": "stdout",
     "output_type": "stream",
     "text": [
      "There are 14.44 % of NO detected and 85.56 % of detected samples\n"
     ]
    }
   ],
   "source": [
    "normal_0, normal_1 = normal_c0*100 / len(normal), normal_c1*100 / len(normal)\n",
    "print(\"There are {:.2f} % of NO detected and {:.2f} % of detected samples\".format(normal_0, normal_1))"
   ]
  },
  {
   "cell_type": "code",
   "execution_count": null,
   "metadata": {},
   "outputs": [
    {
     "name": "stdout",
     "output_type": "stream",
     "text": [
      "There are 98.71 % of NO detected and 1.29 % of detected samples\n"
     ]
    }
   ],
   "source": [
    "analysis_0, analysis_1 = analysis_c0*100 / len(analysis), analysis_c1*100 / len(analysis)\n",
    "print(\"There are {:.2f} % of NO detected and {:.2f} % of detected samples\".format(analysis_0, analysis_1))"
   ]
  },
  {
   "cell_type": "code",
   "execution_count": null,
   "metadata": {},
   "outputs": [
    {
     "name": "stdout",
     "output_type": "stream",
     "text": [
      "There are 78.99 % of NO detected and 21.01 % of detected samples\n"
     ]
    }
   ],
   "source": [
    "backdoor_0, backdoor_1 = backdoor_c0*100 / len(backdoor), backdoor_c1*100 / len(backdoor)\n",
    "print(\"There are {:.2f} % of NO detected and {:.2f} % of detected samples\".format(backdoor_0, backdoor_1))"
   ]
  },
  {
   "cell_type": "code",
   "execution_count": null,
   "metadata": {},
   "outputs": [
    {
     "name": "stdout",
     "output_type": "stream",
     "text": [
      "There are 85.37 % of NO detected and 14.63 % of detected samples\n"
     ]
    }
   ],
   "source": [
    "fuzzers_0, fuzzers_1 = fuzzers_c0*100 / len(fuzzers), fuzzers_c1*100 / len(fuzzers)\n",
    "print(\"There are {:.2f} % of NO detected and {:.2f} % of detected samples\".format(fuzzers_0, fuzzers_1))"
   ]
  },
  {
   "cell_type": "code",
   "execution_count": null,
   "metadata": {},
   "outputs": [
    {
     "name": "stdout",
     "output_type": "stream",
     "text": [
      "There are 30.97 % of NO detected and 69.03 % of detected samples\n"
     ]
    }
   ],
   "source": [
    "shellcode_0, shellcode_1 = shellcode_c0*100 / len(shellcode), shellcode_c1*100 / len(shellcode)\n",
    "print(\"There are {:.2f} % of NO detected and {:.2f} % of detected samples\".format(shellcode_0, shellcode_1))"
   ]
  },
  {
   "cell_type": "code",
   "execution_count": null,
   "metadata": {},
   "outputs": [
    {
     "name": "stdout",
     "output_type": "stream",
     "text": [
      "There are 70.69 % of NO detected and 29.31 % of detected samples\n"
     ]
    }
   ],
   "source": [
    "worms_0, worms_1 = worms_c0*100 / len(worms), worms_c1*100 / len(worms)\n",
    "print(\"There are {:.2f} % of NO detected and {:.2f} % of detected samples\".format(worms_0, worms_1))"
   ]
  },
  {
   "cell_type": "code",
   "execution_count": null,
   "metadata": {},
   "outputs": [
    {
     "name": "stdout",
     "output_type": "stream",
     "text": [
      "There are 0.84 % of NO detected and 99.16 % of detected samples\n"
     ]
    }
   ],
   "source": [
    "generic_0, generic_1 = generic_c0*100 / len(generic), generic_c1*100 / len(generic)\n",
    "print(\"There are {:.2f} % of NO detected and {:.2f} % of detected samples\".format(generic_0, generic_1))"
   ]
  },
  {
   "cell_type": "code",
   "execution_count": null,
   "metadata": {},
   "outputs": [
    {
     "name": "stdout",
     "output_type": "stream",
     "text": [
      "There are 52.10 % of NO detected and 47.90 % of detected samples\n"
     ]
    }
   ],
   "source": [
    "exploits_0, exploits_1 = exploits_c0*100 / len(exploits), exploits_c1*100 / len(exploits)\n",
    "print(\"There are {:.2f} % of NO detected and {:.2f} % of detected samples\".format(exploits_0, exploits_1))"
   ]
  },
  {
   "cell_type": "code",
   "execution_count": null,
   "metadata": {},
   "outputs": [
    {
     "name": "stdout",
     "output_type": "stream",
     "text": [
      "There are 57.15 % of NO detected and 42.85 % of detected samples\n"
     ]
    }
   ],
   "source": [
    "reconnaissance_0, reconnaissance_1 = reconnaissance_c0*100 / len(reconnaissance), reconnaissance_c1*100 / len(reconnaissance)\n",
    "print(\"There are {:.2f} % of NO detected and {:.2f} % of detected samples\".format(reconnaissance_0, reconnaissance_1))"
   ]
  },
  {
   "cell_type": "code",
   "execution_count": null,
   "metadata": {},
   "outputs": [
    {
     "name": "stdout",
     "output_type": "stream",
     "text": [
      "There are 53.27 % of NO detected and 46.73 % of detected samples\n"
     ]
    }
   ],
   "source": [
    "dos_0, dos_1 = dos_c0*100 / len(dos), dos_c1*100 / len(dos)\n",
    "print(\"There are {:.2f} % of NO detected and {:.2f} % of detected samples\".format(dos_0, dos_1))"
   ]
  },
  {
   "cell_type": "code",
   "execution_count": null,
   "metadata": {},
   "outputs": [],
   "source": [
    "summary = pd.DataFrame({\"Traffic\":\n",
    "                   [\"Normal\", \"Analysis\", \"Backdoor\", \"Fuzzers\", \"Shellcode\", \"Worms\", \"Generic\", \"Exploits\", \"Reconnaissance\", \"DoS\"],\n",
    "                   \"Detected %\": [normal_1, analysis_1, backdoor_1, fuzzers_1, shellcode_1, worms_1, generic_1, exploits_1, reconnaissance_1, dos_1],\n",
    "                   \"No Detected %\": [normal_0, analysis_0, backdoor_0, fuzzers_0, shellcode_0, worms_0, generic_0, exploits_0, reconnaissance_0, dos_0],\n",
    "                   \"Detected Samples\": [normal_c1, analysis_c1, backdoor_c1, fuzzers_c1, shellcode_c1, worms_c1, generic_c1, exploits_c1, reconnaissance_c1, dos_c1],\n",
    "                   \"No Detected Samples\": [normal_c0, analysis_c0, backdoor_c0, fuzzers_c0, shellcode_c0, worms_c0, generic_c0, exploits_c0, reconnaissance_c0, dos_c0]})"
   ]
  },
  {
   "cell_type": "code",
   "execution_count": null,
   "metadata": {},
   "outputs": [],
   "source": [
    "dff['category_pred'] = np.where(((df['attack'] == 1) & (df['pred_attack'] == 1)) | ((df['normal'] == 1) & (df['pred_normal'] == 1)), 'Detected', 'No Detected')"
   ]
  },
  {
   "cell_type": "code",
   "execution_count": null,
   "metadata": {},
   "outputs": [],
   "source": [
    "data_plot=dff[['category', 'category_pred']]"
   ]
  },
  {
   "cell_type": "code",
   "execution_count": null,
   "metadata": {},
   "outputs": [
    {
     "data": {
      "text/html": [
       "<div>\n",
       "<style scoped>\n",
       "    .dataframe tbody tr th:only-of-type {\n",
       "        vertical-align: middle;\n",
       "    }\n",
       "\n",
       "    .dataframe tbody tr th {\n",
       "        vertical-align: top;\n",
       "    }\n",
       "\n",
       "    .dataframe thead th {\n",
       "        text-align: right;\n",
       "    }\n",
       "</style>\n",
       "<table border=\"1\" class=\"dataframe\">\n",
       "  <thead>\n",
       "    <tr style=\"text-align: right;\">\n",
       "      <th></th>\n",
       "      <th>category</th>\n",
       "      <th>category_pred</th>\n",
       "    </tr>\n",
       "  </thead>\n",
       "  <tbody>\n",
       "    <tr>\n",
       "      <th>0</th>\n",
       "      <td>normal</td>\n",
       "      <td>Detected</td>\n",
       "    </tr>\n",
       "    <tr>\n",
       "      <th>1</th>\n",
       "      <td>normal</td>\n",
       "      <td>No Detected</td>\n",
       "    </tr>\n",
       "    <tr>\n",
       "      <th>2</th>\n",
       "      <td>normal</td>\n",
       "      <td>Detected</td>\n",
       "    </tr>\n",
       "    <tr>\n",
       "      <th>3</th>\n",
       "      <td>normal</td>\n",
       "      <td>Detected</td>\n",
       "    </tr>\n",
       "    <tr>\n",
       "      <th>4</th>\n",
       "      <td>normal</td>\n",
       "      <td>Detected</td>\n",
       "    </tr>\n",
       "    <tr>\n",
       "      <th>...</th>\n",
       "      <td>...</td>\n",
       "      <td>...</td>\n",
       "    </tr>\n",
       "    <tr>\n",
       "      <th>2540042</th>\n",
       "      <td>normal</td>\n",
       "      <td>Detected</td>\n",
       "    </tr>\n",
       "    <tr>\n",
       "      <th>2540043</th>\n",
       "      <td>normal</td>\n",
       "      <td>Detected</td>\n",
       "    </tr>\n",
       "    <tr>\n",
       "      <th>2540044</th>\n",
       "      <td>normal</td>\n",
       "      <td>Detected</td>\n",
       "    </tr>\n",
       "    <tr>\n",
       "      <th>2540045</th>\n",
       "      <td>normal</td>\n",
       "      <td>Detected</td>\n",
       "    </tr>\n",
       "    <tr>\n",
       "      <th>2540046</th>\n",
       "      <td>exploits</td>\n",
       "      <td>Detected</td>\n",
       "    </tr>\n",
       "  </tbody>\n",
       "</table>\n",
       "<p>2495843 rows × 2 columns</p>\n",
       "</div>"
      ],
      "text/plain": [
       "         category category_pred\n",
       "0          normal      Detected\n",
       "1          normal   No Detected\n",
       "2          normal      Detected\n",
       "3          normal      Detected\n",
       "4          normal      Detected\n",
       "...           ...           ...\n",
       "2540042    normal      Detected\n",
       "2540043    normal      Detected\n",
       "2540044    normal      Detected\n",
       "2540045    normal      Detected\n",
       "2540046  exploits      Detected\n",
       "\n",
       "[2495843 rows x 2 columns]"
      ]
     },
     "metadata": {},
     "output_type": "display_data"
    }
   ],
   "source": [
    "data_plot"
   ]
  },
  {
   "cell_type": "markdown",
   "metadata": {},
   "source": [
    "### Results"
   ]
  },
  {
   "cell_type": "code",
   "execution_count": null,
   "metadata": {},
   "outputs": [
    {
     "data": {
      "image/png": "[encoded data removed]",
      "text/plain": [
       "<Figure size 1080x360 with 1 Axes>"
      ]
     },
     "metadata": {},
     "output_type": "display_data"
    }
   ],
   "source": [
    "# Plotting target label distribution\n",
    "plt.figure(figsize=(15,5))\n",
    "sns.set_theme(style=\"darkgrid\")\n",
    "sns.countplot(x=data_plot['category'], data=data_plot, hue=data_plot['category_pred'])\n",
    "plt.title('The detection of the attacks in Test+ dataset', weight='bold', fontsize='18')\n",
    "plt.xticks(weight='bold', fontsize=12)\n",
    "plt.show()"
   ]
  },
  {
   "cell_type": "code",
   "execution_count": null,
   "metadata": {},
   "outputs": [
    {
     "data": {
      "text/html": [
       "<div>\n",
       "<style scoped>\n",
       "    .dataframe tbody tr th:only-of-type {\n",
       "        vertical-align: middle;\n",
       "    }\n",
       "\n",
       "    .dataframe tbody tr th {\n",
       "        vertical-align: top;\n",
       "    }\n",
       "\n",
       "    .dataframe thead th {\n",
       "        text-align: right;\n",
       "    }\n",
       "</style>\n",
       "<table border=\"1\" class=\"dataframe\">\n",
       "  <thead>\n",
       "    <tr style=\"text-align: right;\">\n",
       "      <th></th>\n",
       "      <th>Traffic</th>\n",
       "      <th>Detected %</th>\n",
       "      <th>No Detected %</th>\n",
       "      <th>Detected Samples</th>\n",
       "      <th>No Detected Samples</th>\n",
       "    </tr>\n",
       "  </thead>\n",
       "  <tbody>\n",
       "    <tr>\n",
       "      <th>0</th>\n",
       "      <td>Normal</td>\n",
       "      <td>85.555917</td>\n",
       "      <td>14.444083</td>\n",
       "      <td>1894131</td>\n",
       "      <td>319779</td>\n",
       "    </tr>\n",
       "    <tr>\n",
       "      <th>1</th>\n",
       "      <td>Analysis</td>\n",
       "      <td>1.286174</td>\n",
       "      <td>98.713826</td>\n",
       "      <td>8</td>\n",
       "      <td>614</td>\n",
       "    </tr>\n",
       "    <tr>\n",
       "      <th>2</th>\n",
       "      <td>Backdoor</td>\n",
       "      <td>21.008403</td>\n",
       "      <td>78.991597</td>\n",
       "      <td>75</td>\n",
       "      <td>282</td>\n",
       "    </tr>\n",
       "    <tr>\n",
       "      <th>3</th>\n",
       "      <td>Fuzzers</td>\n",
       "      <td>14.625645</td>\n",
       "      <td>85.374355</td>\n",
       "      <td>3147</td>\n",
       "      <td>18370</td>\n",
       "    </tr>\n",
       "    <tr>\n",
       "      <th>4</th>\n",
       "      <td>Shellcode</td>\n",
       "      <td>69.027134</td>\n",
       "      <td>30.972866</td>\n",
       "      <td>1043</td>\n",
       "      <td>468</td>\n",
       "    </tr>\n",
       "    <tr>\n",
       "      <th>5</th>\n",
       "      <td>Worms</td>\n",
       "      <td>29.310345</td>\n",
       "      <td>70.689655</td>\n",
       "      <td>51</td>\n",
       "      <td>123</td>\n",
       "    </tr>\n",
       "    <tr>\n",
       "      <th>6</th>\n",
       "      <td>Generic</td>\n",
       "      <td>99.163384</td>\n",
       "      <td>0.836616</td>\n",
       "      <td>211930</td>\n",
       "      <td>1788</td>\n",
       "    </tr>\n",
       "    <tr>\n",
       "      <th>7</th>\n",
       "      <td>Exploits</td>\n",
       "      <td>47.897023</td>\n",
       "      <td>52.102977</td>\n",
       "      <td>13563</td>\n",
       "      <td>14754</td>\n",
       "    </tr>\n",
       "    <tr>\n",
       "      <th>8</th>\n",
       "      <td>Reconnaissance</td>\n",
       "      <td>42.854733</td>\n",
       "      <td>57.145267</td>\n",
       "      <td>5080</td>\n",
       "      <td>6774</td>\n",
       "    </tr>\n",
       "    <tr>\n",
       "      <th>9</th>\n",
       "      <td>DoS</td>\n",
       "      <td>46.725343</td>\n",
       "      <td>53.274657</td>\n",
       "      <td>1805</td>\n",
       "      <td>2058</td>\n",
       "    </tr>\n",
       "  </tbody>\n",
       "</table>\n",
       "</div>"
      ],
      "text/plain": [
       "          Traffic  Detected %  No Detected %  Detected Samples  \\\n",
       "0          Normal   85.555917      14.444083           1894131   \n",
       "1        Analysis    1.286174      98.713826                 8   \n",
       "2        Backdoor   21.008403      78.991597                75   \n",
       "3         Fuzzers   14.625645      85.374355              3147   \n",
       "4       Shellcode   69.027134      30.972866              1043   \n",
       "5           Worms   29.310345      70.689655                51   \n",
       "6         Generic   99.163384       0.836616            211930   \n",
       "7        Exploits   47.897023      52.102977             13563   \n",
       "8  Reconnaissance   42.854733      57.145267              5080   \n",
       "9             DoS   46.725343      53.274657              1805   \n",
       "\n",
       "   No Detected Samples  \n",
       "0               319779  \n",
       "1                  614  \n",
       "2                  282  \n",
       "3                18370  \n",
       "4                  468  \n",
       "5                  123  \n",
       "6                 1788  \n",
       "7                14754  \n",
       "8                 6774  \n",
       "9                 2058  "
      ]
     },
     "metadata": {},
     "output_type": "display_data"
    }
   ],
   "source": [
    "summary"
   ]
  },
  {
   "cell_type": "code",
   "execution_count": null,
   "metadata": {},
   "outputs": [],
   "source": [
    "summary.to_csv('../others/No_TransferLearningFull.csv', index=False)"
   ]
  }
 ],
 "metadata": {
  "interpreter": {
   "hash": "8f888873021ff2b56432b2ed856f78e908258ebea59af0d70cb1358e281cf934"
  },
  "kernelspec": {
   "display_name": "Python 3.9.7 ('tf')",
   "language": "python",
   "name": "python3"
  },
  "language_info": {
   "codemirror_mode": {
    "name": "ipython",
    "version": 3
   },
   "file_extension": ".py",
   "mimetype": "text/x-python",
   "name": "python",
   "nbconvert_exporter": "python",
   "pygments_lexer": "ipython3",
   "version": "3.9.7"
  },
  "orig_nbformat": 4
 },
 "nbformat": 4,
 "nbformat_minor": 2
}
